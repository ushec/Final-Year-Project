{
 "cells": [
  {
   "cell_type": "code",
   "execution_count": null,
   "metadata": {},
   "outputs": [],
   "source": [
    "%pip install pandas tensorflow librosa matplotlib"
   ]
  },
  {
   "cell_type": "code",
   "execution_count": null,
   "metadata": {},
   "outputs": [],
   "source": [
    "import pickle\n",
    "import pandas as pd\n"
   ]
  },
  {
   "cell_type": "code",
   "execution_count": null,
   "metadata": {},
   "outputs": [],
   "source": [
    "us8k_df: pd.DataFrame = pd.read_pickle(\"us8k_df.pkl\")\n",
    "\n",
    "us8k_df.head()"
   ]
  },
  {
   "cell_type": "code",
   "execution_count": null,
   "metadata": {},
   "outputs": [],
   "source": []
  },
  {
   "cell_type": "code",
   "execution_count": null,
   "metadata": {},
   "outputs": [],
   "source": [
    "%pip install torchaudio"
   ]
  },
  {
   "cell_type": "code",
   "execution_count": null,
   "metadata": {},
   "outputs": [],
   "source": [
    "import matplotlib.pyplot as plt\n",
    "import librosa\n",
    "import numpy as np"
   ]
  },
  {
   "cell_type": "code",
   "execution_count": null,
   "metadata": {},
   "outputs": [],
   "source": [
    "RESUME_OFFSET = 5437\n",
    "spectrogram = us8k_df[RESUME_OFFSET:]\n",
    "\n",
    "def save_spectrogram(spectrogram: np.ndarray, idx: int, label: int, ):\n",
    "    librosa.display.specshow(spectrogram, cmap='viridis')\n",
    "    plt.axis('tight')\n",
    "    plt.axis('off')\n",
    "    plt.tight_layout()\n",
    "    plt.savefig(f\"spectrograms/{label}-{idx}.png\", bbox_inches=\"tight\", pad_inches=0.0)"
   ]
  },
  {
   "cell_type": "code",
   "execution_count": null,
   "metadata": {},
   "outputs": [],
   "source": [
    "import os\n",
    "LABELS = os.path.abspath(\"~/UrbanSound8K/metadata/UrbanSound8K.csv\")"
   ]
  },
  {
   "cell_type": "code",
   "execution_count": null,
   "metadata": {},
   "outputs": [],
   "source": [
    "for (idx, (spec, label, fold)) in us8k_df.iterrows():\n",
    "    idx = idx + RESUME_OFFSET\n",
    "    if label == 6:\n",
    "        save_spectrogram(spec, idx, label)\n"
   ]
  },
  {
   "cell_type": "code",
   "execution_count": null,
   "metadata": {},
   "outputs": [],
   "source": [
    "%pip install joblib"
   ]
  },
  {
   "cell_type": "code",
   "execution_count": null,
   "metadata": {},
   "outputs": [],
   "source": [
    "from joblib import Parallel, delayed\n",
    "\n",
    "\n",
    "def my_function(thread_id):\n",
    "    print(f\"Thread {thread_id} is running.\")\n",
    "    # Add your function logic here\n",
    "\n",
    "    RESUME_OFFSETS = [\n",
    "        1330,\n",
    "        1331,\n",
    "        1353,\n",
    "        1338,\n",
    "        1273,\n",
    "        1362,\n",
    "        8422,\n",
    "        1304,\n",
    "        1401,\n",
    "        1345\n",
    "    ]\n",
    "\n",
    "    for (idx, (spec, label, fold)) in us8k_df.iterrows():\n",
    "        # if idx >= RESUME_OFFSETS[thread_id]:\n",
    "        if label == thread_id:\n",
    "            save_spectrogram(spec, idx, label)\n",
    "\n",
    "    # print(RESUME_OFFSETS[thread_id])\n",
    "\n",
    "\n",
    "Parallel(n_jobs=10)(delayed(my_function)(thread_id) for thread_id in range(10))"
   ]
  },
  {
   "cell_type": "code",
   "execution_count": null,
   "metadata": {},
   "outputs": [],
   "source": []
  }
 ],
 "metadata": {
  "kernelspec": {
   "display_name": ".venv",
   "language": "python",
   "name": "python3"
  },
  "language_info": {
   "codemirror_mode": {
    "name": "ipython",
    "version": 3
   },
   "file_extension": ".py",
   "mimetype": "text/x-python",
   "name": "python",
   "nbconvert_exporter": "python",
   "pygments_lexer": "ipython3",
   "version": "3.12.3"
  }
 },
 "nbformat": 4,
 "nbformat_minor": 2
}
