{
 "cells": [
  {
   "cell_type": "code",
   "execution_count": null,
   "metadata": {},
   "outputs": [],
   "source": [
    "%pip install flask tensorflow resampy librosa opencv-python pydub matplotlib"
   ]
  },
  {
   "cell_type": "code",
   "execution_count": null,
   "metadata": {},
   "outputs": [],
   "source": []
  },
  {
   "cell_type": "code",
   "execution_count": 2,
   "metadata": {},
   "outputs": [],
   "source": [
    "import tensorflow as tf"
   ]
  },
  {
   "cell_type": "code",
   "execution_count": 3,
   "metadata": {},
   "outputs": [],
   "source": [
    "# Load the trained model\n",
    "model = tf.keras.models.load_model('./model/cnn.keras')\n"
   ]
  },
  {
   "cell_type": "code",
   "execution_count": null,
   "metadata": {},
   "outputs": [],
   "source": [
    "model.summary()\n"
   ]
  },
  {
   "cell_type": "code",
   "execution_count": 6,
   "metadata": {},
   "outputs": [],
   "source": [
    "from numpy import ndarray\n",
    "import numpy as np\n",
    "import librosa\n",
    "import matplotlib.pyplot as plt\n",
    "import cv2 as cv\n",
    "import io\n",
    "import base64\n",
    "\n",
    "HOP_LENGTH = 512        # number of samples between successive frames\n",
    "WINDOW_LENGTH = 512     # length of the window in samples\n",
    "N_MEL = 128             # number of Mel bands to generate\n",
    "\n",
    "\n",
    "def spectrogram_fixed_length(audio, rate, total_samples = 128) -> ndarray:\n",
    "    spectrogram = librosa.feature.melspectrogram(\n",
    "        y = audio, \n",
    "        sr=rate, \n",
    "        hop_length=HOP_LENGTH, \n",
    "        win_length=WINDOW_LENGTH,\n",
    "        n_fft=512\n",
    "    )\n",
    "\n",
    "    spectrogram_db = librosa.power_to_db(spectrogram, ref=np.max)\n",
    "\n",
    "    spectrogram_length = spectrogram_db.shape[1]\n",
    "\n",
    "    if spectrogram_length != total_samples:\n",
    "        spectrogram_db = librosa.util.fix_length(\n",
    "            spectrogram_db, size=total_samples, axis=1,\n",
    "        )\n",
    "    \n",
    "    return spectrogram_db\n",
    "\n",
    "\n",
    "def generate_spectrogram(audio, sample_rate):\n",
    "    spectrogram = spectrogram_fixed_length(audio, sample_rate)\n",
    "    librosa.display.specshow(spectrogram, cmap='viridis')\n",
    "    plt.axis('tight')\n",
    "    plt.axis('off')\n",
    "    plt.tight_layout()\n",
    "    plt.savefig(\"uploads/spectrogram.png\", bbox_inches=\"tight\", pad_inches=0.0)\n",
    "\n",
    "\n",
    "\n",
    "# TODO: use sliding window\n",
    "def preprocess_audio(audio):\n",
    "    DURATION = 3\n",
    "    audio, sample_rate = librosa.load(audio, duration=DURATION, res_type='kaiser_fast')\n",
    "    generate_spectrogram(audio, sample_rate)\n",
    "   \n",
    "    IMG_SIZE = 256\n",
    "\n",
    "    img_array = cv.imread(\"uploads/spectrogram.png\")\n",
    "    new_array = cv.resize(img_array, (IMG_SIZE, IMG_SIZE))\n",
    "\n",
    "    print(\"Done!\")\n",
    "\n",
    "    return np.array(new_array).reshape(-1, IMG_SIZE, IMG_SIZE, 3) / 255\n"
   ]
  },
  {
   "cell_type": "code",
   "execution_count": null,
   "metadata": {},
   "outputs": [],
   "source": []
  },
  {
   "cell_type": "code",
   "execution_count": null,
   "metadata": {},
   "outputs": [
    {
     "name": "stdout",
     "output_type": "stream",
     "text": [
      " * Serving Flask app 'Audio Classifier'\n",
      " * Debug mode: off\n"
     ]
    },
    {
     "name": "stderr",
     "output_type": "stream",
     "text": [
      "WARNING: This is a development server. Do not use it in a production deployment. Use a production WSGI server instead.\n",
      " * Running on http://127.0.0.1:5000\n",
      "Press CTRL+C to quit"
     ]
    },
    {
     "name": "stderr",
     "output_type": "stream",
     "text": [
      "\n"
     ]
    },
    {
     "name": "stdout",
     "output_type": "stream",
     "text": [
      "Done!\n",
      "predicting...\n",
      "\u001b[1m1/1\u001b[0m \u001b[32m━━━━━━━━━━━━━━━━━━━━\u001b[0m\u001b[37m\u001b[0m \u001b[1m0s\u001b[0m 58ms/step\n"
     ]
    },
    {
     "name": "stderr",
     "output_type": "stream",
     "text": [
      "127.0.0.1 - - [28/Apr/2025 12:53:15] \"POST /classify HTTP/1.1\" 200 -\n"
     ]
    },
    {
     "name": "stdout",
     "output_type": "stream",
     "text": [
      "[[1.5942263e-04 4.5501636e-04 1.7874947e-06 1.7318914e-06 2.5052982e-03\n",
      "  3.4416016e-04 9.9638063e-01 1.0392582e-04 1.8025385e-06 4.6167770e-05]]\n",
      "[0, 1, 2, 3, 4, 5, 6, 7]\n",
      "[0, 1, 4, 5, 6, 7, 9, 9]\n",
      "[1.5942263e-04 4.5501636e-04 1.7874947e-06 1.7318914e-06 2.5052982e-03\n",
      " 3.4416016e-04 9.9638063e-01 1.0392582e-04 1.8025385e-06 4.6167770e-05]\n",
      "labels: {'air_conditioner': 0.015942263416945934, 'car_horn': 0.04550163575913757, 'drilling': 0.2505298238247633, 'engine_idling': 0.03441601584199816, 'gun_shot': 99.6380627155304, 'jackhammer': 0.010392582044005394, 'street_music': 0.004616777005139738}\n",
      "0.0\n"
     ]
    },
    {
     "name": "stderr",
     "output_type": "stream",
     "text": [
      "127.0.0.1 - - [28/Apr/2025 12:53:21] \"POST /process_categories HTTP/1.1\" 200 -\n"
     ]
    },
    {
     "name": "stdout",
     "output_type": "stream",
     "text": [
      "Done!\n",
      "predicting...\n",
      "\u001b[1m1/1\u001b[0m \u001b[32m━━━━━━━━━━━━━━━━━━━━\u001b[0m\u001b[37m\u001b[0m \u001b[1m0s\u001b[0m 53ms/step\n"
     ]
    },
    {
     "name": "stderr",
     "output_type": "stream",
     "text": [
      "127.0.0.1 - - [28/Apr/2025 12:53:22] \"POST /classify HTTP/1.1\" 200 -\n"
     ]
    },
    {
     "name": "stdout",
     "output_type": "stream",
     "text": [
      "[[1.5942263e-04 4.5501636e-04 1.7874947e-06 1.7318914e-06 2.5052982e-03\n",
      "  3.4416016e-04 9.9638063e-01 1.0392582e-04 1.8025385e-06 4.6167770e-05]]\n",
      "[0, 1, 2, 3, 5, 6]\n",
      "[0, 1, 4, 5, 7, 9]\n",
      "[1.5942263e-04 4.5501636e-04 1.7874947e-06 1.7318914e-06 2.5052982e-03\n",
      " 3.4416016e-04 9.9638063e-01 1.0392582e-04 1.8025385e-06 4.6167770e-05]\n",
      "labels: {'air_conditioner': 0.015942263416945934, 'car_horn': 0.04550163575913757, 'drilling': 0.2505298238247633, 'engine_idling': 0.03441601584199816, 'jackhammer': 0.010392582044005394, 'street_music': 0.004616777005139738}\n",
      "0.0\n"
     ]
    },
    {
     "name": "stderr",
     "output_type": "stream",
     "text": [
      "127.0.0.1 - - [28/Apr/2025 12:53:28] \"POST /process_categories HTTP/1.1\" 200 -\n"
     ]
    },
    {
     "name": "stdout",
     "output_type": "stream",
     "text": [
      "Done!\n",
      "predicting...\n",
      "\u001b[1m1/1\u001b[0m \u001b[32m━━━━━━━━━━━━━━━━━━━━\u001b[0m\u001b[37m\u001b[0m \u001b[1m0s\u001b[0m 57ms/step\n"
     ]
    },
    {
     "name": "stderr",
     "output_type": "stream",
     "text": [
      "127.0.0.1 - - [28/Apr/2025 12:53:32] \"POST /classify HTTP/1.1\" 200 -\n"
     ]
    },
    {
     "name": "stdout",
     "output_type": "stream",
     "text": [
      "[[8.9630461e-01 4.9920458e-05 7.8760053e-08 8.3126288e-08 4.6260664e-04\n",
      "  2.6293432e-03 7.7221302e-06 1.2545526e-04 9.6774016e-08 1.0042008e-01]]\n",
      "[0, 1, 2, 3, 4, 5, 6]\n",
      "[0, 1, 4, 5, 6, 7, 9]\n",
      "[8.9630461e-01 4.9920458e-05 7.8760053e-08 8.3126288e-08 4.6260664e-04\n",
      " 2.6293432e-03 7.7221302e-06 1.2545526e-04 9.6774016e-08 1.0042008e-01]\n",
      "labels: {'air_conditioner': 89.63046073913574, 'car_horn': 0.0049920457968255505, 'drilling': 0.046260663657449186, 'engine_idling': 0.26293431874364614, 'gun_shot': 0.0007722130249021575, 'jackhammer': 0.012545526260510087, 'street_music': 10.042008012533188}\n",
      "0.0\n",
      "Done!\n",
      "predicting...\n",
      "\u001b[1m1/1\u001b[0m \u001b[32m━━━━━━━━━━━━━━━━━━━━\u001b[0m\u001b[37m\u001b[0m \u001b[1m0s\u001b[0m 54ms/step\n"
     ]
    },
    {
     "name": "stderr",
     "output_type": "stream",
     "text": [
      "127.0.0.1 - - [28/Apr/2025 12:53:38] \"POST /classify HTTP/1.1\" 200 -\n"
     ]
    },
    {
     "name": "stdout",
     "output_type": "stream",
     "text": [
      "[[8.9630461e-01 4.9920458e-05 7.8760053e-08 8.3126288e-08 4.6260664e-04\n",
      "  2.6293432e-03 7.7221302e-06 1.2545526e-04 9.6774016e-08 1.0042008e-01]]\n",
      "[0, 1, 2, 3, 4, 5, 6]\n",
      "[0, 1, 4, 5, 6, 7, 9]\n",
      "[8.9630461e-01 4.9920458e-05 7.8760053e-08 8.3126288e-08 4.6260664e-04\n",
      " 2.6293432e-03 7.7221302e-06 1.2545526e-04 9.6774016e-08 1.0042008e-01]\n",
      "labels: {'air_conditioner': 89.63046073913574, 'car_horn': 0.0049920457968255505, 'drilling': 0.046260663657449186, 'engine_idling': 0.26293431874364614, 'gun_shot': 0.0007722130249021575, 'jackhammer': 0.012545526260510087, 'street_music': 10.042008012533188}\n",
      "0.0\n",
      "Done!\n",
      "predicting...\n",
      "\u001b[1m1/1\u001b[0m \u001b[32m━━━━━━━━━━━━━━━━━━━━\u001b[0m\u001b[37m\u001b[0m \u001b[1m0s\u001b[0m 54ms/step\n"
     ]
    },
    {
     "name": "stderr",
     "output_type": "stream",
     "text": [
      "127.0.0.1 - - [28/Apr/2025 12:53:45] \"POST /classify HTTP/1.1\" 200 -\n"
     ]
    },
    {
     "name": "stdout",
     "output_type": "stream",
     "text": [
      "[[1.9316247e-18 4.0631265e-18 9.8508331e-29 4.6886262e-29 4.1048739e-07\n",
      "  2.6250618e-12 6.9151288e-23 9.9999964e-01 1.1062245e-28 2.8526380e-15]]\n",
      "[0, 1, 2, 3, 4, 5, 6]\n",
      "[0, 1, 4, 5, 6, 7, 9]\n",
      "[1.9316247e-18 4.0631265e-18 9.8508331e-29 4.6886262e-29 4.1048739e-07\n",
      " 2.6250618e-12 6.9151288e-23 9.9999964e-01 1.1062245e-28 2.8526380e-15]\n",
      "labels: {'air_conditioner': 1.9316247218083172e-16, 'car_horn': 4.063126471701804e-16, 'drilling': 4.104873880805826e-05, 'engine_idling': 2.625061843244958e-10, 'gun_shot': 6.915128820529698e-21, 'jackhammer': 99.99996423721313, 'street_music': 2.8526379832795063e-13}\n",
      "0.0\n",
      "Done!\n",
      "predicting...\n",
      "\u001b[1m1/1\u001b[0m \u001b[32m━━━━━━━━━━━━━━━━━━━━\u001b[0m\u001b[37m\u001b[0m \u001b[1m0s\u001b[0m 56ms/step\n"
     ]
    },
    {
     "name": "stderr",
     "output_type": "stream",
     "text": [
      "127.0.0.1 - - [28/Apr/2025 12:53:52] \"POST /classify HTTP/1.1\" 200 -\n"
     ]
    },
    {
     "name": "stdout",
     "output_type": "stream",
     "text": [
      "[[8.63801706e-13 6.53613545e-03 1.54951806e-24 1.03760666e-23\n",
      "  4.97981149e-04 1.99541273e-12 1.33445772e-11 6.85854820e-18\n",
      "  8.74793022e-24 9.92965937e-01]]\n",
      "[0, 1, 2, 3, 4, 5, 6]\n",
      "[0, 1, 4, 5, 6, 7, 9]\n",
      "[8.63801706e-13 6.53613545e-03 1.54951806e-24 1.03760666e-23\n",
      " 4.97981149e-04 1.99541273e-12 1.33445772e-11 6.85854820e-18\n",
      " 8.74793022e-24 9.92965937e-01]\n",
      "labels: {'air_conditioner': 8.638017059449388e-11, 'car_horn': 0.6536135450005531, 'drilling': 0.049798114923760295, 'engine_idling': 1.9954127326166082e-10, 'gun_shot': 1.3344577179386086e-09, 'jackhammer': 6.858548196648728e-16, 'street_music': 99.29659366607666}\n",
      "0.0\n",
      "Done!\n",
      "predicting...\n",
      "\u001b[1m1/1\u001b[0m \u001b[32m━━━━━━━━━━━━━━━━━━━━\u001b[0m\u001b[37m\u001b[0m \u001b[1m0s\u001b[0m 54ms/step\n"
     ]
    },
    {
     "name": "stderr",
     "output_type": "stream",
     "text": [
      "127.0.0.1 - - [28/Apr/2025 12:54:02] \"POST /classify HTTP/1.1\" 200 -\n"
     ]
    },
    {
     "name": "stdout",
     "output_type": "stream",
     "text": [
      "[[1.4087578e-09 6.5239418e-01 1.2973425e-14 4.4080120e-15 1.8532889e-01\n",
      "  9.8006349e-06 3.4710154e-06 1.8595871e-07 3.0923040e-15 1.6226350e-01]]\n",
      "[0, 1, 2, 3, 4, 5, 6]\n",
      "[0, 1, 4, 5, 6, 7, 9]\n",
      "[1.4087578e-09 6.5239418e-01 1.2973425e-14 4.4080120e-15 1.8532889e-01\n",
      " 9.8006349e-06 3.4710154e-06 1.8595871e-07 3.0923040e-15 1.6226350e-01]\n",
      "labels: {'air_conditioner': 1.4087577770993676e-07, 'car_horn': 65.239417552948, 'drilling': 18.53288859128952, 'engine_idling': 0.0009800634870771319, 'gun_shot': 0.0003471015361355967, 'jackhammer': 1.8595871154047927e-05, 'street_music': 16.226349771022797}\n",
      "0.0\n",
      "Done!\n",
      "predicting...\n",
      "\u001b[1m1/1\u001b[0m \u001b[32m━━━━━━━━━━━━━━━━━━━━\u001b[0m\u001b[37m\u001b[0m \u001b[1m0s\u001b[0m 54ms/step\n"
     ]
    },
    {
     "name": "stderr",
     "output_type": "stream",
     "text": [
      "127.0.0.1 - - [28/Apr/2025 12:54:17] \"POST /classify HTTP/1.1\" 200 -\n"
     ]
    },
    {
     "name": "stdout",
     "output_type": "stream",
     "text": [
      "[[6.9610440e-05 3.8673643e-05 4.7876392e-10 7.4931822e-10 5.3449857e-01\n",
      "  1.9171255e-04 2.1744870e-06 3.2967693e-01 2.4612441e-09 1.3552222e-01]]\n",
      "[0, 1, 2, 3, 4, 5, 6]\n",
      "[0, 1, 4, 5, 6, 7, 9]\n",
      "[6.9610440e-05 3.8673643e-05 4.7876392e-10 7.4931822e-10 5.3449857e-01\n",
      " 1.9171255e-04 2.1744870e-06 3.2967693e-01 2.4612441e-09 1.3552222e-01]\n",
      "labels: {'air_conditioner': 0.006961043982300907, 'car_horn': 0.0038673642848152667, 'drilling': 53.449857234954834, 'engine_idling': 0.019171254825778306, 'gun_shot': 0.00021744870082329726, 'jackhammer': 32.967692613601685, 'street_music': 13.552221655845642}\n",
      "0.0\n",
      "Done!\n",
      "predicting...\n",
      "\u001b[1m1/1\u001b[0m \u001b[32m━━━━━━━━━━━━━━━━━━━━\u001b[0m\u001b[37m\u001b[0m \u001b[1m0s\u001b[0m 54ms/step\n"
     ]
    },
    {
     "name": "stderr",
     "output_type": "stream",
     "text": [
      "127.0.0.1 - - [28/Apr/2025 12:54:25] \"POST /classify HTTP/1.1\" 200 -\n"
     ]
    },
    {
     "name": "stdout",
     "output_type": "stream",
     "text": [
      "[[3.5841439e-02 8.7175838e-04 6.3837047e-07 1.8335059e-07 4.6484894e-03\n",
      "  2.9292662e-02 1.5280950e-05 9.0080839e-01 4.3757012e-07 2.8520633e-02]]\n",
      "[0, 1, 2, 3, 4, 5, 6]\n",
      "[0, 1, 4, 5, 6, 7, 9]\n",
      "[3.5841439e-02 8.7175838e-04 6.3837047e-07 1.8335059e-07 4.6484894e-03\n",
      " 2.9292662e-02 1.5280950e-05 9.0080839e-01 4.3757012e-07 2.8520633e-02]\n",
      "labels: {'air_conditioner': 3.58414389193058, 'car_horn': 0.08717583841644228, 'drilling': 0.4648489411920309, 'engine_idling': 2.929266169667244, 'gun_shot': 0.00152809498104034, 'jackhammer': 90.08083939552307, 'street_music': 2.8520632535219193}\n",
      "0.0\n",
      "Done!\n",
      "predicting...\n",
      "\u001b[1m1/1\u001b[0m \u001b[32m━━━━━━━━━━━━━━━━━━━━\u001b[0m\u001b[37m\u001b[0m \u001b[1m0s\u001b[0m 54ms/step\n"
     ]
    },
    {
     "name": "stderr",
     "output_type": "stream",
     "text": [
      "127.0.0.1 - - [28/Apr/2025 12:54:36] \"POST /classify HTTP/1.1\" 200 -\n"
     ]
    },
    {
     "name": "stdout",
     "output_type": "stream",
     "text": [
      "[[3.2314144e-08 5.5222032e-18 1.0184645e-21 7.6892400e-22 1.1509646e-11\n",
      "  1.0000000e+00 8.1805027e-22 1.2926926e-11 3.2397111e-22 6.2024852e-10]]\n",
      "[0, 1, 2, 3, 4, 5, 6]\n",
      "[0, 1, 4, 5, 6, 7, 9]\n",
      "[3.2314144e-08 5.5222032e-18 1.0184645e-21 7.6892400e-22 1.1509646e-11\n",
      " 1.0000000e+00 8.1805027e-22 1.2926926e-11 3.2397111e-22 6.2024852e-10]\n",
      "labels: {'air_conditioner': 3.231414424931245e-06, 'car_horn': 5.522203175483584e-16, 'drilling': 1.1509645667096002e-09, 'engine_idling': 100.0, 'gun_shot': 8.180502733271273e-20, 'jackhammer': 1.2926926022671648e-09, 'street_music': 6.202485192119411e-08}\n",
      "0.0\n",
      "Done!\n",
      "predicting...\n",
      "\u001b[1m1/1\u001b[0m \u001b[32m━━━━━━━━━━━━━━━━━━━━\u001b[0m\u001b[37m\u001b[0m \u001b[1m0s\u001b[0m 54ms/step\n"
     ]
    },
    {
     "name": "stderr",
     "output_type": "stream",
     "text": [
      "127.0.0.1 - - [28/Apr/2025 12:54:48] \"POST /classify HTTP/1.1\" 200 -\n"
     ]
    },
    {
     "name": "stdout",
     "output_type": "stream",
     "text": [
      "[[5.9500691e-02 1.5494914e-05 3.5839012e-10 1.2200968e-09 2.2599463e-06\n",
      "  9.3749082e-01 1.6324987e-09 5.1762372e-06 3.6370587e-09 2.9855440e-03]]\n",
      "[0, 1, 2, 3, 4, 5, 6]\n",
      "[0, 1, 4, 5, 6, 7, 9]\n",
      "[5.9500691e-02 1.5494914e-05 3.5839012e-10 1.2200968e-09 2.2599463e-06\n",
      " 9.3749082e-01 1.6324987e-09 5.1762372e-06 3.6370587e-09 2.9855440e-03]\n",
      "labels: {'air_conditioner': 5.9500690549612045, 'car_horn': 0.0015494913895963691, 'drilling': 0.0002259946313643013, 'engine_idling': 93.74908208847046, 'gun_shot': 1.6324986917837236e-07, 'jackhammer': 0.0005176237209525425, 'street_music': 0.29855440370738506}\n",
      "0.0\n",
      "Done!\n",
      "predicting...\n",
      "\u001b[1m1/1\u001b[0m \u001b[32m━━━━━━━━━━━━━━━━━━━━\u001b[0m\u001b[37m\u001b[0m \u001b[1m0s\u001b[0m 57ms/step\n"
     ]
    },
    {
     "name": "stderr",
     "output_type": "stream",
     "text": [
      "127.0.0.1 - - [28/Apr/2025 12:54:54] \"POST /classify HTTP/1.1\" 200 -\n"
     ]
    },
    {
     "name": "stdout",
     "output_type": "stream",
     "text": [
      "[[3.5841439e-02 8.7175838e-04 6.3837047e-07 1.8335059e-07 4.6484894e-03\n",
      "  2.9292662e-02 1.5280950e-05 9.0080839e-01 4.3757012e-07 2.8520633e-02]]\n",
      "[0, 1, 2, 3, 4, 5, 6]\n",
      "[0, 1, 4, 5, 6, 7, 9]\n",
      "[3.5841439e-02 8.7175838e-04 6.3837047e-07 1.8335059e-07 4.6484894e-03\n",
      " 2.9292662e-02 1.5280950e-05 9.0080839e-01 4.3757012e-07 2.8520633e-02]\n",
      "labels: {'air_conditioner': 3.58414389193058, 'car_horn': 0.08717583841644228, 'drilling': 0.4648489411920309, 'engine_idling': 2.929266169667244, 'gun_shot': 0.00152809498104034, 'jackhammer': 90.08083939552307, 'street_music': 2.8520632535219193}\n",
      "0.0\n",
      "Done!\n",
      "predicting...\n",
      "\u001b[1m1/1\u001b[0m \u001b[32m━━━━━━━━━━━━━━━━━━━━\u001b[0m\u001b[37m\u001b[0m \u001b[1m0s\u001b[0m 61ms/step\n"
     ]
    },
    {
     "name": "stderr",
     "output_type": "stream",
     "text": [
      "127.0.0.1 - - [28/Apr/2025 12:55:00] \"POST /classify HTTP/1.1\" 200 -\n"
     ]
    },
    {
     "name": "stdout",
     "output_type": "stream",
     "text": [
      "[[6.9610440e-05 3.8673643e-05 4.7876392e-10 7.4931822e-10 5.3449857e-01\n",
      "  1.9171255e-04 2.1744870e-06 3.2967693e-01 2.4612441e-09 1.3552222e-01]]\n",
      "[0, 1, 2, 3, 4, 5, 6]\n",
      "[0, 1, 4, 5, 6, 7, 9]\n",
      "[6.9610440e-05 3.8673643e-05 4.7876392e-10 7.4931822e-10 5.3449857e-01\n",
      " 1.9171255e-04 2.1744870e-06 3.2967693e-01 2.4612441e-09 1.3552222e-01]\n",
      "labels: {'air_conditioner': 0.006961043982300907, 'car_horn': 0.0038673642848152667, 'drilling': 53.449857234954834, 'engine_idling': 0.019171254825778306, 'gun_shot': 0.00021744870082329726, 'jackhammer': 32.967692613601685, 'street_music': 13.552221655845642}\n",
      "0.0\n",
      "Done!\n",
      "predicting...\n",
      "\u001b[1m1/1\u001b[0m \u001b[32m━━━━━━━━━━━━━━━━━━━━\u001b[0m\u001b[37m\u001b[0m \u001b[1m0s\u001b[0m 53ms/step\n"
     ]
    },
    {
     "name": "stderr",
     "output_type": "stream",
     "text": [
      "127.0.0.1 - - [28/Apr/2025 12:55:49] \"POST /classify HTTP/1.1\" 200 -\n"
     ]
    },
    {
     "name": "stdout",
     "output_type": "stream",
     "text": [
      "[[9.7817969e-01 8.8828919e-04 3.2218875e-05 2.0378198e-05 1.9646101e-03\n",
      "  1.0500363e-02 2.1312789e-03 3.7371879e-03 1.8845421e-05 2.5269687e-03]]\n",
      "[0, 1, 2, 3, 4, 5, 6]\n",
      "[0, 1, 4, 5, 6, 7, 9]\n",
      "[9.7817969e-01 8.8828919e-04 3.2218875e-05 2.0378198e-05 1.9646101e-03\n",
      " 1.0500363e-02 2.1312789e-03 3.7371879e-03 1.8845421e-05 2.5269687e-03]\n",
      "labels: {'air_conditioner': 97.81796932220459, 'car_horn': 0.08882891852408648, 'drilling': 0.1964610069990158, 'engine_idling': 1.0500363074243069, 'gun_shot': 0.21312788594514132, 'jackhammer': 0.3737187944352627, 'street_music': 0.2526968717575073}\n",
      "0.0\n",
      "Done!\n",
      "predicting...\n",
      "\u001b[1m1/1\u001b[0m \u001b[32m━━━━━━━━━━━━━━━━━━━━\u001b[0m\u001b[37m\u001b[0m \u001b[1m0s\u001b[0m 55ms/step\n"
     ]
    },
    {
     "name": "stderr",
     "output_type": "stream",
     "text": [
      "127.0.0.1 - - [28/Apr/2025 12:55:59] \"POST /classify HTTP/1.1\" 200 -\n"
     ]
    },
    {
     "name": "stdout",
     "output_type": "stream",
     "text": [
      "[[9.6879691e-01 5.2514742e-06 5.7887411e-07 4.4558465e-07 2.9422055e-04\n",
      "  2.0206678e-03 3.3961473e-06 2.8657170e-02 1.6563081e-07 2.2128552e-04]]\n",
      "[0, 1, 2, 3, 4, 5, 6]\n",
      "[0, 1, 4, 5, 6, 7, 9]\n",
      "[9.6879691e-01 5.2514742e-06 5.7887411e-07 4.4558465e-07 2.9422055e-04\n",
      " 2.0206678e-03 3.3961473e-06 2.8657170e-02 1.6563081e-07 2.2128552e-04]\n",
      "labels: {'air_conditioner': 96.87969088554382, 'car_horn': 0.0005251474249234889, 'drilling': 0.029422054649330676, 'engine_idling': 0.20206677727401257, 'gun_shot': 0.00033961473491217475, 'jackhammer': 2.865717001259327, 'street_music': 0.022128551790956408}\n",
      "0.0\n",
      "Done!\n",
      "predicting...\n",
      "\u001b[1m1/1\u001b[0m \u001b[32m━━━━━━━━━━━━━━━━━━━━\u001b[0m\u001b[37m\u001b[0m \u001b[1m0s\u001b[0m 54ms/step\n"
     ]
    },
    {
     "name": "stderr",
     "output_type": "stream",
     "text": [
      "127.0.0.1 - - [28/Apr/2025 12:56:10] \"POST /classify HTTP/1.1\" 200 -\n"
     ]
    },
    {
     "name": "stdout",
     "output_type": "stream",
     "text": [
      "[[1.46393738e-25 9.99996781e-01 0.00000000e+00 6.57470227e-37\n",
      "  1.30081785e-08 9.77153403e-14 1.00015487e-27 2.15883404e-26\n",
      "  0.00000000e+00 3.23901259e-06]]\n",
      "[0, 1, 2, 3, 4, 5, 6]\n",
      "[0, 1, 4, 5, 6, 7, 9]\n",
      "[1.46393738e-25 9.99996781e-01 0.00000000e+00 6.57470227e-37\n",
      " 1.30081785e-08 9.77153403e-14 1.00015487e-27 2.15883404e-26\n",
      " 0.00000000e+00 3.23901259e-06]\n",
      "labels: {'air_conditioner': 1.46393737628956e-23, 'car_horn': 99.99967813491821, 'drilling': 1.3008178534335002e-06, 'engine_idling': 9.771534032225124e-12, 'gun_shot': 1.0001548720127299e-25, 'jackhammer': 2.1588340392315442e-24, 'street_music': 0.0003239012585254386}\n",
      "0.0\n",
      "Done!\n",
      "predicting...\n",
      "\u001b[1m1/1\u001b[0m \u001b[32m━━━━━━━━━━━━━━━━━━━━\u001b[0m\u001b[37m\u001b[0m \u001b[1m0s\u001b[0m 60ms/step\n"
     ]
    },
    {
     "name": "stderr",
     "output_type": "stream",
     "text": [
      "127.0.0.1 - - [28/Apr/2025 12:56:22] \"POST /classify HTTP/1.1\" 200 -\n"
     ]
    },
    {
     "name": "stdout",
     "output_type": "stream",
     "text": [
      "[[1.46393738e-25 9.99996781e-01 0.00000000e+00 6.57470227e-37\n",
      "  1.30081785e-08 9.77153403e-14 1.00015487e-27 2.15883404e-26\n",
      "  0.00000000e+00 3.23901259e-06]]\n",
      "[0, 1, 2, 3, 4, 5, 6]\n",
      "[0, 1, 4, 5, 6, 7, 9]\n",
      "[1.46393738e-25 9.99996781e-01 0.00000000e+00 6.57470227e-37\n",
      " 1.30081785e-08 9.77153403e-14 1.00015487e-27 2.15883404e-26\n",
      " 0.00000000e+00 3.23901259e-06]\n",
      "labels: {'air_conditioner': 1.46393737628956e-23, 'car_horn': 99.99967813491821, 'drilling': 1.3008178534335002e-06, 'engine_idling': 9.771534032225124e-12, 'gun_shot': 1.0001548720127299e-25, 'jackhammer': 2.1588340392315442e-24, 'street_music': 0.0003239012585254386}\n",
      "0.0\n",
      "Done!\n",
      "predicting...\n",
      "\u001b[1m1/1\u001b[0m \u001b[32m━━━━━━━━━━━━━━━━━━━━\u001b[0m\u001b[37m\u001b[0m \u001b[1m0s\u001b[0m 54ms/step\n"
     ]
    },
    {
     "name": "stderr",
     "output_type": "stream",
     "text": [
      "127.0.0.1 - - [28/Apr/2025 12:56:35] \"POST /classify HTTP/1.1\" 200 -\n"
     ]
    },
    {
     "name": "stdout",
     "output_type": "stream",
     "text": [
      "[[1.1692964e-16 9.5436698e-01 6.9084506e-26 2.5034321e-25 1.0078103e-06\n",
      "  4.4003290e-09 1.4252753e-18 1.5916725e-14 2.2254424e-26 4.5632020e-02]]\n",
      "[0, 1, 2, 3, 4, 5, 6]\n",
      "[0, 1, 4, 5, 6, 7, 9]\n",
      "[1.1692964e-16 9.5436698e-01 6.9084506e-26 2.5034321e-25 1.0078103e-06\n",
      " 4.4003290e-09 1.4252753e-18 1.5916725e-14 2.2254424e-26 4.5632020e-02]\n",
      "labels: {'air_conditioner': 1.1692964258556515e-14, 'car_horn': 95.43669819831848, 'drilling': 0.00010078102832267177, 'engine_idling': 4.4003289900729214e-07, 'gun_shot': 1.425275312218296e-16, 'jackhammer': 1.591672486086354e-12, 'street_music': 4.56320196390152}\n",
      "0.0\n"
     ]
    },
    {
     "name": "stderr",
     "output_type": "stream",
     "text": [
      "127.0.0.1 - - [28/Apr/2025 12:56:41] \"POST /process_categories HTTP/1.1\" 200 -\n",
      "127.0.0.1 - - [28/Apr/2025 12:56:41] \"POST /process_categories HTTP/1.1\" 200 -\n",
      "127.0.0.1 - - [28/Apr/2025 12:56:41] \"POST /process_categories HTTP/1.1\" 200 -\n",
      "127.0.0.1 - - [28/Apr/2025 12:56:41] \"POST /process_categories HTTP/1.1\" 200 -\n",
      "127.0.0.1 - - [28/Apr/2025 12:56:41] \"POST /process_categories HTTP/1.1\" 200 -\n",
      "127.0.0.1 - - [28/Apr/2025 12:56:41] \"POST /process_categories HTTP/1.1\" 200 -\n",
      "127.0.0.1 - - [28/Apr/2025 12:56:41] \"POST /process_categories HTTP/1.1\" 200 -\n",
      "127.0.0.1 - - [28/Apr/2025 12:56:41] \"POST /process_categories HTTP/1.1\" 200 -\n",
      "127.0.0.1 - - [28/Apr/2025 12:56:41] \"POST /process_categories HTTP/1.1\" 200 -\n",
      "127.0.0.1 - - [28/Apr/2025 12:56:41] \"POST /process_categories HTTP/1.1\" 200 -\n",
      "127.0.0.1 - - [28/Apr/2025 12:56:41] \"POST /process_categories HTTP/1.1\" 200 -\n",
      "127.0.0.1 - - [28/Apr/2025 12:56:41] \"POST /process_categories HTTP/1.1\" 200 -\n",
      "127.0.0.1 - - [28/Apr/2025 12:56:41] \"POST /process_categories HTTP/1.1\" 200 -\n",
      "127.0.0.1 - - [28/Apr/2025 12:56:41] \"POST /process_categories HTTP/1.1\" 200 -\n",
      "127.0.0.1 - - [28/Apr/2025 12:56:41] \"POST /process_categories HTTP/1.1\" 200 -\n",
      "127.0.0.1 - - [28/Apr/2025 12:56:41] \"POST /process_categories HTTP/1.1\" 200 -\n",
      "127.0.0.1 - - [28/Apr/2025 12:56:41] \"POST /process_categories HTTP/1.1\" 200 -\n",
      "127.0.0.1 - - [28/Apr/2025 12:56:41] \"POST /process_categories HTTP/1.1\" 200 -\n",
      "127.0.0.1 - - [28/Apr/2025 12:56:42] \"POST /process_categories HTTP/1.1\" 200 -\n",
      "127.0.0.1 - - [28/Apr/2025 12:56:42] \"POST /process_categories HTTP/1.1\" 200 -\n",
      "127.0.0.1 - - [28/Apr/2025 12:56:42] \"POST /process_categories HTTP/1.1\" 200 -\n",
      "127.0.0.1 - - [28/Apr/2025 12:56:42] \"POST /process_categories HTTP/1.1\" 200 -\n",
      "127.0.0.1 - - [28/Apr/2025 12:56:43] \"POST /process_categories HTTP/1.1\" 200 -\n",
      "127.0.0.1 - - [28/Apr/2025 12:56:43] \"POST /process_categories HTTP/1.1\" 200 -\n",
      "127.0.0.1 - - [28/Apr/2025 12:56:43] \"POST /process_categories HTTP/1.1\" 200 -\n",
      "127.0.0.1 - - [28/Apr/2025 12:56:43] \"POST /process_categories HTTP/1.1\" 200 -\n",
      "127.0.0.1 - - [28/Apr/2025 12:56:43] \"POST /process_categories HTTP/1.1\" 200 -\n",
      "127.0.0.1 - - [28/Apr/2025 12:56:43] \"POST /process_categories HTTP/1.1\" 200 -\n",
      "127.0.0.1 - - [28/Apr/2025 12:56:43] \"POST /process_categories HTTP/1.1\" 200 -\n",
      "127.0.0.1 - - [28/Apr/2025 12:56:44] \"POST /process_categories HTTP/1.1\" 200 -\n"
     ]
    },
    {
     "name": "stdout",
     "output_type": "stream",
     "text": [
      "Done!\n",
      "predicting...\n",
      "\u001b[1m1/1\u001b[0m \u001b[32m━━━━━━━━━━━━━━━━━━━━\u001b[0m\u001b[37m\u001b[0m \u001b[1m0s\u001b[0m 55ms/step\n"
     ]
    },
    {
     "name": "stderr",
     "output_type": "stream",
     "text": [
      "127.0.0.1 - - [28/Apr/2025 12:56:47] \"POST /classify HTTP/1.1\" 200 -\n"
     ]
    },
    {
     "name": "stdout",
     "output_type": "stream",
     "text": [
      "[[1.1692964e-16 9.5436698e-01 6.9084506e-26 2.5034321e-25 1.0078103e-06\n",
      "  4.4003290e-09 1.4252753e-18 1.5916725e-14 2.2254424e-26 4.5632020e-02]]\n",
      "[0, 1, 2, 3, 4, 5, 6]\n",
      "[0, 1, 4, 5, 6, 7, 9]\n",
      "[1.1692964e-16 9.5436698e-01 6.9084506e-26 2.5034321e-25 1.0078103e-06\n",
      " 4.4003290e-09 1.4252753e-18 1.5916725e-14 2.2254424e-26 4.5632020e-02]\n",
      "labels: {'car_horn': 95.43669819831848}\n",
      "40.0\n",
      "Done!\n",
      "predicting...\n",
      "\u001b[1m1/1\u001b[0m \u001b[32m━━━━━━━━━━━━━━━━━━━━\u001b[0m\u001b[37m\u001b[0m \u001b[1m0s\u001b[0m 58ms/step\n"
     ]
    },
    {
     "name": "stderr",
     "output_type": "stream",
     "text": [
      "127.0.0.1 - - [28/Apr/2025 12:56:55] \"POST /classify HTTP/1.1\" 200 -\n"
     ]
    },
    {
     "name": "stdout",
     "output_type": "stream",
     "text": [
      "[[2.1659541e-15 7.5139683e-14 1.5207416e-27 5.3984722e-28 9.9999559e-01\n",
      "  2.3415874e-16 4.0277478e-22 4.4285639e-06 5.8642595e-27 6.6036489e-11]]\n",
      "[0, 1, 2, 3, 4, 5, 6]\n",
      "[0, 1, 4, 5, 6, 7, 9]\n",
      "[2.1659541e-15 7.5139683e-14 1.5207416e-27 5.3984722e-28 9.9999559e-01\n",
      " 2.3415874e-16 4.0277478e-22 4.4285639e-06 5.8642595e-27 6.6036489e-11]\n",
      "labels: {'drilling': 99.99955892562866}\n",
      "40.0\n",
      "Done!\n",
      "predicting...\n",
      "\u001b[1m1/1\u001b[0m \u001b[32m━━━━━━━━━━━━━━━━━━━━\u001b[0m\u001b[37m\u001b[0m \u001b[1m0s\u001b[0m 53ms/step\n"
     ]
    },
    {
     "name": "stderr",
     "output_type": "stream",
     "text": [
      "127.0.0.1 - - [28/Apr/2025 12:57:04] \"POST /classify HTTP/1.1\" 200 -\n"
     ]
    },
    {
     "name": "stdout",
     "output_type": "stream",
     "text": [
      "[[1.2944895e-10 2.7626548e-10 4.5139577e-25 1.2443809e-25 3.4355300e-05\n",
      "  6.7262320e-12 1.4331641e-18 6.9198031e-15 8.5641570e-25 9.9996567e-01]]\n",
      "[0, 1, 2, 3, 4, 5, 6]\n",
      "[0, 1, 4, 5, 6, 7, 9]\n",
      "[1.2944895e-10 2.7626548e-10 4.5139577e-25 1.2443809e-25 3.4355300e-05\n",
      " 6.7262320e-12 1.4331641e-18 6.9198031e-15 8.5641570e-25 9.9996567e-01]\n",
      "labels: {'street_music': 99.99656677246094}\n",
      "40.0\n",
      "Done!\n",
      "predicting...\n",
      "\u001b[1m1/1\u001b[0m \u001b[32m━━━━━━━━━━━━━━━━━━━━\u001b[0m\u001b[37m\u001b[0m \u001b[1m0s\u001b[0m 52ms/step\n"
     ]
    },
    {
     "name": "stderr",
     "output_type": "stream",
     "text": [
      "127.0.0.1 - - [28/Apr/2025 12:57:13] \"POST /classify HTTP/1.1\" 200 -\n"
     ]
    },
    {
     "name": "stdout",
     "output_type": "stream",
     "text": [
      "[[3.5841439e-02 8.7175838e-04 6.3837047e-07 1.8335059e-07 4.6484894e-03\n",
      "  2.9292662e-02 1.5280950e-05 9.0080839e-01 4.3757012e-07 2.8520633e-02]]\n",
      "[0, 1, 2, 3, 4, 5, 6]\n",
      "[0, 1, 4, 5, 6, 7, 9]\n",
      "[3.5841439e-02 8.7175838e-04 6.3837047e-07 1.8335059e-07 4.6484894e-03\n",
      " 2.9292662e-02 1.5280950e-05 9.0080839e-01 4.3757012e-07 2.8520633e-02]\n",
      "labels: {'jackhammer': 90.08083939552307}\n",
      "40.0\n",
      "Done!\n",
      "predicting...\n",
      "\u001b[1m1/1\u001b[0m \u001b[32m━━━━━━━━━━━━━━━━━━━━\u001b[0m\u001b[37m\u001b[0m \u001b[1m0s\u001b[0m 49ms/step\n"
     ]
    },
    {
     "name": "stderr",
     "output_type": "stream",
     "text": [
      "127.0.0.1 - - [28/Apr/2025 12:57:20] \"POST /classify HTTP/1.1\" 200 -\n"
     ]
    },
    {
     "name": "stdout",
     "output_type": "stream",
     "text": [
      "[[1.7357345e-03 1.0097096e-03 5.4537810e-05 9.2594455e-05 3.0814335e-03\n",
      "  8.4181305e-04 9.8688191e-01 2.2529559e-04 5.1302810e-05 6.0255178e-03]]\n",
      "[0, 1, 2, 3, 4, 5, 6]\n",
      "[0, 1, 4, 5, 6, 7, 9]\n",
      "[1.7357345e-03 1.0097096e-03 5.4537810e-05 9.2594455e-05 3.0814335e-03\n",
      " 8.4181305e-04 9.8688191e-01 2.2529559e-04 5.1302810e-05 6.0255178e-03]\n",
      "labels: {'gun_shot': 98.68819117546082}\n",
      "40.0\n",
      "Done!\n",
      "predicting...\n",
      "\u001b[1m1/1\u001b[0m \u001b[32m━━━━━━━━━━━━━━━━━━━━\u001b[0m\u001b[37m\u001b[0m \u001b[1m0s\u001b[0m 52ms/step\n"
     ]
    },
    {
     "name": "stderr",
     "output_type": "stream",
     "text": [
      "127.0.0.1 - - [28/Apr/2025 12:57:29] \"POST /classify HTTP/1.1\" 200 -\n"
     ]
    },
    {
     "name": "stdout",
     "output_type": "stream",
     "text": [
      "[[8.8234920e-05 1.5086024e-04 5.0519895e-07 7.5746397e-07 7.7262027e-03\n",
      "  7.8190220e-05 9.9105799e-01 8.7521836e-04 4.9103892e-07 2.1545742e-05]]\n",
      "[0, 1, 2, 3, 4, 5, 6]\n",
      "[0, 1, 4, 5, 6, 7, 9]\n",
      "[8.8234920e-05 1.5086024e-04 5.0519895e-07 7.5746397e-07 7.7262027e-03\n",
      " 7.8190220e-05 9.9105799e-01 8.7521836e-04 4.9103892e-07 2.1545742e-05]\n",
      "labels: {'gun_shot': 99.10579919815063}\n",
      "40.0\n",
      "Done!\n",
      "predicting...\n",
      "\u001b[1m1/1\u001b[0m \u001b[32m━━━━━━━━━━━━━━━━━━━━\u001b[0m\u001b[37m\u001b[0m \u001b[1m0s\u001b[0m 53ms/step\n"
     ]
    },
    {
     "name": "stderr",
     "output_type": "stream",
     "text": [
      "127.0.0.1 - - [28/Apr/2025 12:58:22] \"POST /classify HTTP/1.1\" 200 -\n"
     ]
    },
    {
     "name": "stdout",
     "output_type": "stream",
     "text": [
      "[[1.4372661e-25 9.9999666e-01 3.1297037e-38 2.6727322e-38 1.8218577e-06\n",
      "  2.1597436e-15 3.1182718e-25 1.0427674e-23 0.0000000e+00 1.6021495e-06]]\n",
      "[0, 1, 2, 3, 4, 5, 6]\n",
      "[0, 1, 4, 5, 6, 7, 9]\n",
      "[1.4372661e-25 9.9999666e-01 3.1297037e-38 2.6727322e-38 1.8218577e-06\n",
      " 2.1597436e-15 3.1182718e-25 1.0427674e-23 0.0000000e+00 1.6021495e-06]\n",
      "labels: {'car_horn': 99.99966621398926}\n",
      "40.0\n",
      "Done!\n",
      "predicting...\n",
      "\u001b[1m1/1\u001b[0m \u001b[32m━━━━━━━━━━━━━━━━━━━━\u001b[0m\u001b[37m\u001b[0m \u001b[1m0s\u001b[0m 51ms/step\n"
     ]
    },
    {
     "name": "stderr",
     "output_type": "stream",
     "text": [
      "127.0.0.1 - - [28/Apr/2025 12:59:52] \"POST /classify HTTP/1.1\" 200 -\n"
     ]
    },
    {
     "name": "stdout",
     "output_type": "stream",
     "text": [
      "[[9.8624201e-05 2.1279558e-04 8.6155541e-11 1.5449145e-10 1.0639628e-02\n",
      "  4.2008565e-04 2.0338547e-08 3.4536475e-03 3.4179520e-10 9.8517519e-01]]\n",
      "[0, 1, 2, 3, 4, 5, 6]\n",
      "[0, 1, 4, 5, 6, 7, 9]\n",
      "[9.8624201e-05 2.1279558e-04 8.6155541e-11 1.5449145e-10 1.0639628e-02\n",
      " 4.2008565e-04 2.0338547e-08 3.4536475e-03 3.4179520e-10 9.8517519e-01]\n",
      "labels: {'street_music': 98.51751923561096}\n",
      "40.0\n"
     ]
    },
    {
     "name": "stderr",
     "output_type": "stream",
     "text": [
      "127.0.0.1 - - [28/Apr/2025 13:00:01] \"POST /process_categories HTTP/1.1\" 200 -\n"
     ]
    },
    {
     "name": "stdout",
     "output_type": "stream",
     "text": [
      "Done!\n",
      "predicting...\n",
      "\u001b[1m1/1\u001b[0m \u001b[32m━━━━━━━━━━━━━━━━━━━━\u001b[0m\u001b[37m\u001b[0m \u001b[1m0s\u001b[0m 46ms/step\n"
     ]
    },
    {
     "name": "stderr",
     "output_type": "stream",
     "text": [
      "127.0.0.1 - - [28/Apr/2025 13:00:03] \"POST /classify HTTP/1.1\" 200 -\n"
     ]
    },
    {
     "name": "stdout",
     "output_type": "stream",
     "text": [
      "[[9.8624201e-05 2.1279558e-04 8.6155541e-11 1.5449145e-10 1.0639628e-02\n",
      "  4.2008565e-04 2.0338547e-08 3.4536475e-03 3.4179520e-10 9.8517519e-01]]\n",
      "[0, 1, 2, 3, 4, 5]\n",
      "[0, 1, 4, 5, 6, 7]\n",
      "[9.8624201e-05 2.1279558e-04 8.6155541e-11 1.5449145e-10 1.0639628e-02\n",
      " 4.2008565e-04 2.0338547e-08 3.4536475e-03 3.4179520e-10 9.8517519e-01]\n",
      "labels: {}\n",
      "40.0\n"
     ]
    },
    {
     "name": "stderr",
     "output_type": "stream",
     "text": [
      "127.0.0.1 - - [28/Apr/2025 13:00:07] \"POST /process_categories HTTP/1.1\" 200 -\n",
      "127.0.0.1 - - [28/Apr/2025 13:00:08] \"POST /process_categories HTTP/1.1\" 200 -\n",
      "127.0.0.1 - - [28/Apr/2025 13:00:08] \"POST /process_categories HTTP/1.1\" 200 -\n",
      "127.0.0.1 - - [28/Apr/2025 13:00:08] \"POST /process_categories HTTP/1.1\" 200 -\n",
      "127.0.0.1 - - [28/Apr/2025 13:00:08] \"POST /process_categories HTTP/1.1\" 200 -\n",
      "127.0.0.1 - - [28/Apr/2025 13:00:08] \"POST /process_categories HTTP/1.1\" 200 -\n",
      "127.0.0.1 - - [28/Apr/2025 13:00:08] \"POST /process_categories HTTP/1.1\" 200 -\n"
     ]
    },
    {
     "name": "stdout",
     "output_type": "stream",
     "text": [
      "Done!\n",
      "predicting...\n",
      "\u001b[1m1/1\u001b[0m \u001b[32m━━━━━━━━━━━━━━━━━━━━\u001b[0m\u001b[37m\u001b[0m \u001b[1m0s\u001b[0m 52ms/step\n"
     ]
    },
    {
     "name": "stderr",
     "output_type": "stream",
     "text": [
      "127.0.0.1 - - [28/Apr/2025 13:00:10] \"POST /classify HTTP/1.1\" 200 -\n"
     ]
    },
    {
     "name": "stdout",
     "output_type": "stream",
     "text": [
      "[[9.8624201e-05 2.1279558e-04 8.6155541e-11 1.5449145e-10 1.0639628e-02\n",
      "  4.2008565e-04 2.0338547e-08 3.4536475e-03 3.4179520e-10 9.8517519e-01]]\n",
      "[0, 1, 2, 3, 4, 5]\n",
      "[0, 1, 4, 5, 6, 7]\n",
      "[9.8624201e-05 2.1279558e-04 8.6155541e-11 1.5449145e-10 1.0639628e-02\n",
      " 4.2008565e-04 2.0338547e-08 3.4536475e-03 3.4179520e-10 9.8517519e-01]\n",
      "labels: {'air_conditioner': 0.00986242012004368, 'car_horn': 0.021279558131936938, 'drilling': 1.0639628395438194, 'engine_idling': 0.042008564923889935, 'gun_shot': 2.0338546846687677e-06, 'jackhammer': 0.34536474850028753}\n",
      "0.0\n"
     ]
    },
    {
     "name": "stderr",
     "output_type": "stream",
     "text": [
      "127.0.0.1 - - [28/Apr/2025 13:00:15] \"POST /process_categories HTTP/1.1\" 200 -\n"
     ]
    },
    {
     "name": "stdout",
     "output_type": "stream",
     "text": [
      "Done!\n",
      "predicting...\n",
      "\u001b[1m1/1\u001b[0m \u001b[32m━━━━━━━━━━━━━━━━━━━━\u001b[0m\u001b[37m\u001b[0m \u001b[1m0s\u001b[0m 59ms/step\n"
     ]
    },
    {
     "name": "stderr",
     "output_type": "stream",
     "text": [
      "127.0.0.1 - - [28/Apr/2025 13:00:17] \"POST /classify HTTP/1.1\" 200 -\n"
     ]
    },
    {
     "name": "stdout",
     "output_type": "stream",
     "text": [
      "[[9.8624201e-05 2.1279558e-04 8.6155541e-11 1.5449145e-10 1.0639628e-02\n",
      "  4.2008565e-04 2.0338547e-08 3.4536475e-03 3.4179520e-10 9.8517519e-01]]\n",
      "[0, 1, 2, 3, 4, 5]\n",
      "[0, 1, 4, 5, 6, 7]\n",
      "[9.8624201e-05 2.1279558e-04 8.6155541e-11 1.5449145e-10 1.0639628e-02\n",
      " 4.2008565e-04 2.0338547e-08 3.4536475e-03 3.4179520e-10 9.8517519e-01]\n",
      "labels: {'drilling': 1.0639628395438194}\n",
      "1.0\n"
     ]
    },
    {
     "name": "stderr",
     "output_type": "stream",
     "text": [
      "127.0.0.1 - - [28/Apr/2025 13:00:20] \"POST /process_categories HTTP/1.1\" 200 -\n"
     ]
    },
    {
     "name": "stdout",
     "output_type": "stream",
     "text": [
      "Done!\n",
      "predicting...\n",
      "\u001b[1m1/1\u001b[0m \u001b[32m━━━━━━━━━━━━━━━━━━━━\u001b[0m\u001b[37m\u001b[0m \u001b[1m0s\u001b[0m 50ms/step\n"
     ]
    },
    {
     "name": "stderr",
     "output_type": "stream",
     "text": [
      "127.0.0.1 - - [28/Apr/2025 13:00:22] \"POST /classify HTTP/1.1\" 200 -\n"
     ]
    },
    {
     "name": "stdout",
     "output_type": "stream",
     "text": [
      "[[9.8624201e-05 2.1279558e-04 8.6155541e-11 1.5449145e-10 1.0639628e-02\n",
      "  4.2008565e-04 2.0338547e-08 3.4536475e-03 3.4179520e-10 9.8517519e-01]]\n",
      "[0, 1, 2, 3, 4, 5]\n",
      "[0, 1, 4, 5, 6, 7]\n",
      "[9.8624201e-05 2.1279558e-04 8.6155541e-11 1.5449145e-10 1.0639628e-02\n",
      " 4.2008565e-04 2.0338547e-08 3.4536475e-03 3.4179520e-10 9.8517519e-01]\n",
      "labels: {}\n",
      "2.0\n",
      "Done!\n",
      "predicting...\n",
      "\u001b[1m1/1\u001b[0m \u001b[32m━━━━━━━━━━━━━━━━━━━━\u001b[0m\u001b[37m\u001b[0m \u001b[1m0s\u001b[0m 51ms/step\n"
     ]
    },
    {
     "name": "stderr",
     "output_type": "stream",
     "text": [
      "127.0.0.1 - - [28/Apr/2025 13:01:33] \"POST /classify HTTP/1.1\" 200 -\n"
     ]
    },
    {
     "name": "stdout",
     "output_type": "stream",
     "text": [
      "[[4.7957462e-01 1.0397708e-06 2.4029294e-12 7.3960820e-12 3.0438410e-04\n",
      "  6.9158850e-05 2.0446669e-09 1.5836726e-05 7.3771180e-12 5.2003497e-01]]\n",
      "[0, 1, 2, 3, 4, 5]\n",
      "[0, 1, 4, 5, 6, 7]\n",
      "[4.7957462e-01 1.0397708e-06 2.4029294e-12 7.3960820e-12 3.0438410e-04\n",
      " 6.9158850e-05 2.0446669e-09 1.5836726e-05 7.3771180e-12 5.2003497e-01]\n",
      "labels: {'air_conditioner': 47.95746207237244}\n",
      "2.0\n"
     ]
    },
    {
     "name": "stderr",
     "output_type": "stream",
     "text": [
      "127.0.0.1 - - [28/Apr/2025 13:01:37] \"POST /process_categories HTTP/1.1\" 200 -\n",
      "127.0.0.1 - - [28/Apr/2025 13:01:38] \"POST /process_categories HTTP/1.1\" 200 -\n",
      "127.0.0.1 - - [28/Apr/2025 13:01:45] \"POST /process_categories HTTP/1.1\" 200 -\n"
     ]
    },
    {
     "name": "stdout",
     "output_type": "stream",
     "text": [
      "Done!\n",
      "predicting...\n",
      "\u001b[1m1/1\u001b[0m \u001b[32m━━━━━━━━━━━━━━━━━━━━\u001b[0m\u001b[37m\u001b[0m \u001b[1m0s\u001b[0m 80ms/step\n"
     ]
    },
    {
     "name": "stderr",
     "output_type": "stream",
     "text": [
      "127.0.0.1 - - [28/Apr/2025 13:01:47] \"POST /classify HTTP/1.1\" 200 -\n"
     ]
    },
    {
     "name": "stdout",
     "output_type": "stream",
     "text": [
      "[[4.7957462e-01 1.0397708e-06 2.4029294e-12 7.3960820e-12 3.0438410e-04\n",
      "  6.9158850e-05 2.0446669e-09 1.5836726e-05 7.3771180e-12 5.2003497e-01]]\n",
      "[0, 1, 2, 3, 4, 5, 6]\n",
      "[0, 1, 4, 5, 6, 7, 9]\n",
      "[4.7957462e-01 1.0397708e-06 2.4029294e-12 7.3960820e-12 3.0438410e-04\n",
      " 6.9158850e-05 2.0446669e-09 1.5836726e-05 7.3771180e-12 5.2003497e-01]\n",
      "labels: {'air_conditioner': 47.95746207237244, 'car_horn': 0.00010397708365417202, 'drilling': 0.030438409885391593, 'engine_idling': 0.0069158850237727165, 'gun_shot': 2.0446668802520662e-07, 'jackhammer': 0.0015836725651752204, 'street_music': 52.00349688529968}\n",
      "0.0\n"
     ]
    }
   ],
   "source": [
    "from flask import Flask, render_template, request, session\n",
    "\n",
    "# import os\n",
    "# from pydub import AudioSegment\n",
    "\n",
    "app = Flask(\"Audio Classifier\")\n",
    "app.config['UPLOAD_FOLDER'] = 'uploads/'\n",
    "app.secret_key = '123456'\n",
    "\n",
    "LABELS_OUTER = [\n",
    "    \"air_conditioner\",\n",
    "    \"car_horn\",\n",
    "    # \"children_playing\",\n",
    "    # \"dog_bark\",\n",
    "    \"drilling\",\n",
    "    \"engine_idling\",\n",
    "    \"gun_shot\",\n",
    "    \"jackhammer\",\n",
    "    # \"siren\",\n",
    "    \"street_music\"\n",
    "]\n",
    "\n",
    "@app.route('/', methods=['GET', 'POST'])\n",
    "def index():\n",
    "    threshold = int(session.get('threshold', 0))\n",
    "    selected_categories = [int(x) for x in session.get('selected_categories', [])]\n",
    "\n",
    "\n",
    "    return render_template(\n",
    "        './index.html', \n",
    "        categories=LABELS_OUTER,\n",
    "        threshold=threshold, \n",
    "        selected_categories=selected_categories\n",
    "    )\n",
    "\n",
    "\n",
    "@app.route('/process_categories', methods=['POST'])\n",
    "def process_categories():\n",
    "    selected_categories = request.get_json().get(\"selected_categories\", [])\n",
    "    # convert them to integers\n",
    "    selected_categories = [int(x) for x in selected_categories]\n",
    "\n",
    "    threshold = request.get_json().get('threshold', 50)\n",
    "\n",
    "    session['selected_categories'] = selected_categories\n",
    "    session['threshold'] = threshold\n",
    "\n",
    "    return {\"success\": True}\n",
    "\n",
    "LABELS = [\n",
    "    \"air_conditioner\",\n",
    "    \"car_horn\",\n",
    "    \"children_playing\",\n",
    "    \"dog_bark\",\n",
    "    \"drilling\",\n",
    "    \"engine_idling\",\n",
    "    \"gun_shot\",\n",
    "    \"jackhammer\",\n",
    "    \"siren\",\n",
    "    \"street_music\"\n",
    "]\n",
    "\n",
    "@app.route('/classify', methods=['POST'])\n",
    "def classify():\n",
    "    # Get the audio file from the request\n",
    "    audio_file = request.files['audio_file']\n",
    "\n",
    "    # Process the audio file using your trained model\n",
    "    audio_data = preprocess_audio(audio_file)\n",
    "    \n",
    "    print(\"predicting...\")\n",
    "        \n",
    "    prediction = model.predict(audio_data)\n",
    "        \n",
    "\n",
    "    print(prediction)\n",
    "\n",
    "    # categories to include\n",
    "    selected_categories = session.get('selected_categories', [])\n",
    "\n",
    "    print(selected_categories)\n",
    "    new_selected = []\n",
    "    for selected in selected_categories:\n",
    "        if selected < 2:\n",
    "            new_selected.append(selected)\n",
    "        elif selected == 6:\n",
    "            new_selected.append(9)\n",
    "        else:\n",
    "            new_selected.append(selected + 2)\n",
    "\n",
    "    selected_categories = new_selected\n",
    "\n",
    "\n",
    "    confidence_threshold = float(session.get('threshold', 0.))\n",
    "    print(selected_categories)\n",
    "\n",
    "    p = {}\n",
    "    pred = prediction.flatten()\n",
    "\n",
    "    print(pred)\n",
    "\n",
    "\n",
    "    for (index, label) in enumerate(LABELS):\n",
    "        if index not in selected_categories:\n",
    "            continue\n",
    "\n",
    "        confidence = float(pred[index] * 100.0)\n",
    "\n",
    "        if confidence < confidence_threshold:\n",
    "            continue\n",
    "\n",
    "        p[label] = confidence\n",
    "\n",
    "    print(\"labels:\", p)\n",
    "\n",
    "    \n",
    "\n",
    "    print(confidence_threshold)\n",
    "\n",
    "\n",
    "    # create a predicted label\n",
    "    if len(p) == 0:\n",
    "        if len(selected_categories) == 0:\n",
    "            predicted = \"None Found. You must select a nuisance.\"\n",
    "        else:\n",
    "            predicted = \"None Found. Try lowering the detection threshold.\"\n",
    "    else:\n",
    "        predicted = max(p, key=p.get)\n",
    "\n",
    "\n",
    "    # create spectrogram image\n",
    "    file = open(\"uploads/spectrogram.png\", 'rb')\n",
    "    image_buffer = file.read()\n",
    "    spectrogram = base64.b64encode(image_buffer).decode('utf-8')\n",
    "\n",
    "    \n",
    "    # mp3_bytes = io.BytesIO()\n",
    "    # audio = AudioSegment.from_file(audio_file.read())\n",
    "    # audio.export(mp3_bytes, format='mp3')\n",
    "    # # mp3_data = mp3_bytes.getvalue()\n",
    "    \n",
    "    # audio_data = base64.b64encode(mp3_bytes.read()).decode('utf-8')\n",
    "    \n",
    "    # Return the classification result\n",
    "    return {\n",
    "        'prediction': predicted,\n",
    "        'spectrogram': spectrogram, \n",
    "        # 'audio': audio_data,\n",
    "        # 'audio_mime': audio_file.mimetype,\n",
    "        'predictions': p,\n",
    "    }\n",
    "\n",
    "app.run()\n"
   ]
  },
  {
   "cell_type": "code",
   "execution_count": null,
   "metadata": {},
   "outputs": [],
   "source": []
  }
 ],
 "metadata": {
  "kernelspec": {
   "display_name": "Python 3",
   "language": "python",
   "name": "python3"
  },
  "language_info": {
   "codemirror_mode": {
    "name": "ipython",
    "version": 3
   },
   "file_extension": ".py",
   "mimetype": "text/x-python",
   "name": "python",
   "nbconvert_exporter": "python",
   "pygments_lexer": "ipython3",
   "version": "3.11.0"
  }
 },
 "nbformat": 4,
 "nbformat_minor": 2
}
