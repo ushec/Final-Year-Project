{
 "cells": [
  {
   "cell_type": "code",
   "execution_count": 78,
   "metadata": {},
   "outputs": [
    {
     "name": "stdout",
     "output_type": "stream",
     "text": [
      "Note: you may need to restart the kernel to use updated packages.Requirement already satisfied: flask in c:\\users\\usher\\appdata\\local\\programs\\python\\python311\\lib\\site-packages (3.1.0)\n",
      "Requirement already satisfied: tensorflow in c:\\users\\usher\\appdata\\local\\programs\\python\\python311\\lib\\site-packages (2.18.0)\n",
      "Requirement already satisfied: resampy in c:\\users\\usher\\appdata\\local\\programs\\python\\python311\\lib\\site-packages (0.4.3)\n",
      "Requirement already satisfied: librosa in c:\\users\\usher\\appdata\\local\\programs\\python\\python311\\lib\\site-packages (0.10.2.post1)\n",
      "Requirement already satisfied: opencv-python in c:\\users\\usher\\appdata\\local\\programs\\python\\python311\\lib\\site-packages (4.8.0.76)\n",
      "Collecting pydub\n",
      "  Downloading pydub-0.25.1-py2.py3-none-any.whl.metadata (1.4 kB)\n",
      "Requirement already satisfied: Werkzeug>=3.1 in c:\\users\\usher\\appdata\\local\\programs\\python\\python311\\lib\\site-packages (from flask) (3.1.0)\n",
      "Requirement already satisfied: Jinja2>=3.1.2 in c:\\users\\usher\\appdata\\local\\programs\\python\\python311\\lib\\site-packages (from flask) (3.1.2)\n",
      "Requirement already satisfied: itsdangerous>=2.2 in c:\\users\\usher\\appdata\\local\\programs\\python\\python311\\lib\\site-packages (from flask) (2.2.0)\n",
      "Requirement already satisfied: click>=8.1.3 in c:\\users\\usher\\appdata\\local\\programs\\python\\python311\\lib\\site-packages (from flask) (8.1.7)\n",
      "Requirement already satisfied: blinker>=1.9 in c:\\users\\usher\\appdata\\local\\programs\\python\\python311\\lib\\site-packages (from flask) (1.9.0)\n",
      "Requirement already satisfied: tensorflow-intel==2.18.0 in c:\\users\\usher\\appdata\\local\\programs\\python\\python311\\lib\\site-packages (from tensorflow) (2.18.0)\n",
      "Requirement already satisfied: absl-py>=1.0.0 in c:\\users\\usher\\appdata\\local\\programs\\python\\python311\\lib\\site-packages (from tensorflow-intel==2.18.0->tensorflow) (2.1.0)\n",
      "Requirement already satisfied: astunparse>=1.6.0 in c:\\users\\usher\\appdata\\local\\programs\\python\\python311\\lib\\site-packages (from tensorflow-intel==2.18.0->tensorflow) (1.6.3)\n",
      "Requirement already satisfied: flatbuffers>=24.3.25 in c:\\users\\usher\\appdata\\local\\programs\\python\\python311\\lib\\site-packages (from tensorflow-intel==2.18.0->tensorflow) (24.3.25)\n",
      "Requirement already satisfied: gast!=0.5.0,!=0.5.1,!=0.5.2,>=0.2.1 in c:\\users\\usher\\appdata\\local\\programs\\python\\python311\\lib\\site-packages (from tensorflow-intel==2.18.0->tensorflow) (0.6.0)\n",
      "Requirement already satisfied: google-pasta>=0.1.1 in c:\\users\\usher\\appdata\\local\\programs\\python\\python311\\lib\\site-packages (from tensorflow-intel==2.18.0->tensorflow) (0.2.0)\n",
      "Requirement already satisfied: libclang>=13.0.0 in c:\\users\\usher\\appdata\\local\\programs\\python\\python311\\lib\\site-packages (from tensorflow-intel==2.18.0->tensorflow) (18.1.1)\n",
      "Requirement already satisfied: opt-einsum>=2.3.2 in c:\\users\\usher\\appdata\\local\\programs\\python\\python311\\lib\\site-packages (from tensorflow-intel==2.18.0->tensorflow) (3.4.0)\n",
      "Requirement already satisfied: packaging in c:\\users\\usher\\appdata\\roaming\\python\\python311\\site-packages (from tensorflow-intel==2.18.0->tensorflow) (21.3)\n",
      "Requirement already satisfied: protobuf!=4.21.0,!=4.21.1,!=4.21.2,!=4.21.3,!=4.21.4,!=4.21.5,<6.0.0dev,>=3.20.3 in c:\\users\\usher\\appdata\\local\\programs\\python\\python311\\lib\\site-packages (from tensorflow-intel==2.18.0->tensorflow) (5.28.3)\n",
      "Requirement already satisfied: requests<3,>=2.21.0 in c:\\users\\usher\\appdata\\local\\programs\\python\\python311\\lib\\site-packages (from tensorflow-intel==2.18.0->tensorflow) (2.32.3)\n",
      "Requirement already satisfied: setuptools in c:\\users\\usher\\appdata\\local\\programs\\python\\python311\\lib\\site-packages (from tensorflow-intel==2.18.0->tensorflow) (65.5.0)\n",
      "Requirement already satisfied: six>=1.12.0 in c:\\users\\usher\\appdata\\roaming\\python\\python311\\site-packages (from tensorflow-intel==2.18.0->tensorflow) (1.16.0)\n",
      "Requirement already satisfied: termcolor>=1.1.0 in c:\\users\\usher\\appdata\\local\\programs\\python\\python311\\lib\\site-packages (from tensorflow-intel==2.18.0->tensorflow) (2.5.0)\n",
      "Requirement already satisfied: typing-extensions>=3.6.6 in c:\\users\\usher\\appdata\\local\\programs\\python\\python311\\lib\\site-packages (from tensorflow-intel==2.18.0->tensorflow) (4.12.2)\n",
      "Requirement already satisfied: wrapt>=1.11.0 in c:\\users\\usher\\appdata\\local\\programs\\python\\python311\\lib\\site-packages (from tensorflow-intel==2.18.0->tensorflow) (1.16.0)\n",
      "Requirement already satisfied: grpcio<2.0,>=1.24.3 in c:\\users\\usher\\appdata\\local\\programs\\python\\python311\\lib\\site-packages (from tensorflow-intel==2.18.0->tensorflow) (1.67.1)\n",
      "Requirement already satisfied: tensorboard<2.19,>=2.18 in c:\\users\\usher\\appdata\\local\\programs\\python\\python311\\lib\\site-packages (from tensorflow-intel==2.18.0->tensorflow) (2.18.0)\n",
      "Requirement already satisfied: keras>=3.5.0 in c:\\users\\usher\\appdata\\local\\programs\\python\\python311\\lib\\site-packages (from tensorflow-intel==2.18.0->tensorflow) (3.6.0)\n",
      "Requirement already satisfied: numpy<2.1.0,>=1.26.0 in c:\\users\\usher\\appdata\\local\\programs\\python\\python311\\lib\\site-packages (from tensorflow-intel==2.18.0->tensorflow) (1.26.4)\n",
      "Requirement already satisfied: h5py>=3.11.0 in c:\\users\\usher\\appdata\\local\\programs\\python\\python311\\lib\\site-packages (from tensorflow-intel==2.18.0->tensorflow) (3.12.1)\n",
      "Requirement already satisfied: ml-dtypes<0.5.0,>=0.4.0 in c:\\users\\usher\\appdata\\local\\programs\\python\\python311\\lib\\site-packages (from tensorflow-intel==2.18.0->tensorflow) (0.4.1)\n",
      "Requirement already satisfied: tensorflow-io-gcs-filesystem>=0.23.1 in c:\\users\\usher\\appdata\\local\\programs\\python\\python311\\lib\\site-packages (from tensorflow-intel==2.18.0->tensorflow) (0.31.0)\n",
      "Requirement already satisfied: numba>=0.53 in c:\\users\\usher\\appdata\\local\\programs\\python\\python311\\lib\\site-packages (from resampy) (0.60.0)\n",
      "Requirement already satisfied: audioread>=2.1.9 in c:\\users\\usher\\appdata\\local\\programs\\python\\python311\\lib\\site-packages (from librosa) (3.0.1)\n",
      "Requirement already satisfied: scipy>=1.2.0 in c:\\users\\usher\\appdata\\local\\programs\\python\\python311\\lib\\site-packages (from librosa) (1.12.0)\n",
      "Requirement already satisfied: scikit-learn>=0.20.0 in c:\\users\\usher\\appdata\\local\\programs\\python\\python311\\lib\\site-packages (from librosa) (1.4.2)\n",
      "Requirement already satisfied: joblib>=0.14 in c:\\users\\usher\\appdata\\local\\programs\\python\\python311\\lib\\site-packages (from librosa) (1.4.2)\n",
      "Requirement already satisfied: decorator>=4.3.0 in c:\\users\\usher\\appdata\\roaming\\python\\python311\\site-packages (from librosa) (5.1.1)\n",
      "Requirement already satisfied: soundfile>=0.12.1 in c:\\users\\usher\\appdata\\local\\programs\\python\\python311\\lib\\site-packages (from librosa) (0.12.1)\n",
      "Requirement already satisfied: pooch>=1.1 in c:\\users\\usher\\appdata\\local\\programs\\python\\python311\\lib\\site-packages (from librosa) (1.8.2)\n",
      "Requirement already satisfied: soxr>=0.3.2 in c:\\users\\usher\\appdata\\local\\programs\\python\\python311\\lib\\site-packages (from librosa) (0.5.0.post1)\n",
      "Requirement already satisfied: lazy-loader>=0.1 in c:\\users\\usher\\appdata\\local\\programs\\python\\python311\\lib\\site-packages (from librosa) (0.4)\n",
      "Requirement already satisfied: msgpack>=1.0 in c:\\users\\usher\\appdata\\local\\programs\\python\\python311\\lib\\site-packages (from librosa) (1.1.0)\n",
      "Requirement already satisfied: colorama in c:\\users\\usher\\appdata\\roaming\\python\\python311\\site-packages (from click>=8.1.3->flask) (0.4.6)\n",
      "Requirement already satisfied: MarkupSafe>=2.0 in c:\\users\\usher\\appdata\\local\\programs\\python\\python311\\lib\\site-packages (from Jinja2>=3.1.2->flask) (2.1.1)\n",
      "Requirement already satisfied: llvmlite<0.44,>=0.43.0dev0 in c:\\users\\usher\\appdata\\local\\programs\\python\\python311\\lib\\site-packages (from numba>=0.53->resampy) (0.43.0)\n",
      "Requirement already satisfied: platformdirs>=2.5.0 in c:\\users\\usher\\appdata\\roaming\\python\\python311\\site-packages (from pooch>=1.1->librosa) (2.5.4)\n",
      "Requirement already satisfied: threadpoolctl>=2.0.0 in c:\\users\\usher\\appdata\\local\\programs\\python\\python311\\lib\\site-packages (from scikit-learn>=0.20.0->librosa) (3.5.0)\n",
      "Requirement already satisfied: cffi>=1.0 in c:\\users\\usher\\appdata\\local\\programs\\python\\python311\\lib\\site-packages (from soundfile>=0.12.1->librosa) (1.15.1)\n",
      "Requirement already satisfied: wheel<1.0,>=0.23.0 in c:\\users\\usher\\appdata\\local\\programs\\python\\python311\\lib\\site-packages (from astunparse>=1.6.0->tensorflow-intel==2.18.0->tensorflow) (0.44.0)\n",
      "Requirement already satisfied: pycparser in c:\\users\\usher\\appdata\\local\\programs\\python\\python311\\lib\\site-packages (from cffi>=1.0->soundfile>=0.12.1->librosa) (2.21)\n",
      "Requirement already satisfied: rich in c:\\users\\usher\\appdata\\local\\programs\\python\\python311\\lib\\site-packages (from keras>=3.5.0->tensorflow-intel==2.18.0->tensorflow) (13.9.3)\n",
      "Requirement already satisfied: namex in c:\\users\\usher\\appdata\\local\\programs\\python\\python311\\lib\\site-packages (from keras>=3.5.0->tensorflow-intel==2.18.0->tensorflow) (0.0.8)\n",
      "Requirement already satisfied: optree in c:\\users\\usher\\appdata\\local\\programs\\python\\python311\\lib\\site-packages (from keras>=3.5.0->tensorflow-intel==2.18.0->tensorflow) (0.13.0)\n",
      "Requirement already satisfied: pyparsing!=3.0.5,>=2.0.2 in c:\\users\\usher\\appdata\\roaming\\python\\python311\\site-packages (from packaging->tensorflow-intel==2.18.0->tensorflow) (3.0.9)\n",
      "Requirement already satisfied: charset-normalizer<4,>=2 in c:\\users\\usher\\appdata\\local\\programs\\python\\python311\\lib\\site-packages (from requests<3,>=2.21.0->tensorflow-intel==2.18.0->tensorflow) (3.3.2)\n",
      "Requirement already satisfied: idna<4,>=2.5 in c:\\users\\usher\\appdata\\local\\programs\\python\\python311\\lib\\site-packages (from requests<3,>=2.21.0->tensorflow-intel==2.18.0->tensorflow) (3.4)\n",
      "Requirement already satisfied: urllib3<3,>=1.21.1 in c:\\users\\usher\\appdata\\local\\programs\\python\\python311\\lib\\site-packages (from requests<3,>=2.21.0->tensorflow-intel==2.18.0->tensorflow) (2.1.0)\n",
      "Requirement already satisfied: certifi>=2017.4.17 in c:\\users\\usher\\appdata\\local\\programs\\python\\python311\\lib\\site-packages (from requests<3,>=2.21.0->tensorflow-intel==2.18.0->tensorflow) (2023.11.17)\n",
      "Requirement already satisfied: markdown>=2.6.8 in c:\\users\\usher\\appdata\\local\\programs\\python\\python311\\lib\\site-packages (from tensorboard<2.19,>=2.18->tensorflow-intel==2.18.0->tensorflow) (3.7)\n",
      "Requirement already satisfied: tensorboard-data-server<0.8.0,>=0.7.0 in c:\\users\\usher\\appdata\\local\\programs\\python\\python311\\lib\\site-packages (from tensorboard<2.19,>=2.18->tensorflow-intel==2.18.0->tensorflow) (0.7.2)\n",
      "Requirement already satisfied: markdown-it-py>=2.2.0 in c:\\users\\usher\\appdata\\local\\programs\\python\\python311\\lib\\site-packages (from rich->keras>=3.5.0->tensorflow-intel==2.18.0->tensorflow) (3.0.0)\n",
      "Requirement already satisfied: pygments<3.0.0,>=2.13.0 in c:\\users\\usher\\appdata\\roaming\\python\\python311\\site-packages (from rich->keras>=3.5.0->tensorflow-intel==2.18.0->tensorflow) (2.13.0)\n",
      "Requirement already satisfied: mdurl~=0.1 in c:\\users\\usher\\appdata\\local\\programs\\python\\python311\\lib\\site-packages (from markdown-it-py>=2.2.0->rich->keras>=3.5.0->tensorflow-intel==2.18.0->tensorflow) (0.1.2)\n",
      "Downloading pydub-0.25.1-py2.py3-none-any.whl (32 kB)\n",
      "Installing collected packages: pydub\n",
      "Successfully installed pydub-0.25.1\n",
      "\n"
     ]
    },
    {
     "name": "stderr",
     "output_type": "stream",
     "text": [
      "\n",
      "[notice] A new release of pip is available: 25.0 -> 25.0.1\n",
      "[notice] To update, run: python.exe -m pip install --upgrade pip\n"
     ]
    }
   ],
   "source": [
    "%pip install flask tensorflow resampy librosa opencv-python pydub"
   ]
  },
  {
   "cell_type": "code",
   "execution_count": 2,
   "metadata": {},
   "outputs": [],
   "source": [
    "from flask import Flask, render_template, request\n",
    "import tensorflow as tf"
   ]
  },
  {
   "cell_type": "code",
   "execution_count": null,
   "metadata": {},
   "outputs": [],
   "source": [
    "# Load the trained model\n",
    "model = tf.keras.models.load_model('./model/cnn.keras')"
   ]
  },
  {
   "cell_type": "code",
   "execution_count": 3,
   "metadata": {},
   "outputs": [
    {
     "data": {
      "text/html": [
       "<pre style=\"white-space:pre;overflow-x:auto;line-height:normal;font-family:Menlo,'DejaVu Sans Mono',consolas,'Courier New',monospace\"><span style=\"font-weight: bold\">Model: \"sequential\"</span>\n",
       "</pre>\n"
      ],
      "text/plain": [
       "\u001b[1mModel: \"sequential\"\u001b[0m\n"
      ]
     },
     "metadata": {},
     "output_type": "display_data"
    },
    {
     "data": {
      "text/html": [
       "<pre style=\"white-space:pre;overflow-x:auto;line-height:normal;font-family:Menlo,'DejaVu Sans Mono',consolas,'Courier New',monospace\">┏━━━━━━━━━━━━━━━━━━━━━━━━━━━━━━━━━┳━━━━━━━━━━━━━━━━━━━━━━━━┳━━━━━━━━━━━━━━━┓\n",
       "┃<span style=\"font-weight: bold\"> Layer (type)                    </span>┃<span style=\"font-weight: bold\"> Output Shape           </span>┃<span style=\"font-weight: bold\">       Param # </span>┃\n",
       "┡━━━━━━━━━━━━━━━━━━━━━━━━━━━━━━━━━╇━━━━━━━━━━━━━━━━━━━━━━━━╇━━━━━━━━━━━━━━━┩\n",
       "│ conv2d (<span style=\"color: #0087ff; text-decoration-color: #0087ff\">Conv2D</span>)                 │ (<span style=\"color: #00d7ff; text-decoration-color: #00d7ff\">None</span>, <span style=\"color: #00af00; text-decoration-color: #00af00\">256</span>, <span style=\"color: #00af00; text-decoration-color: #00af00\">256</span>, <span style=\"color: #00af00; text-decoration-color: #00af00\">32</span>)   │           <span style=\"color: #00af00; text-decoration-color: #00af00\">896</span> │\n",
       "├─────────────────────────────────┼────────────────────────┼───────────────┤\n",
       "│ conv2d_1 (<span style=\"color: #0087ff; text-decoration-color: #0087ff\">Conv2D</span>)               │ (<span style=\"color: #00d7ff; text-decoration-color: #00d7ff\">None</span>, <span style=\"color: #00af00; text-decoration-color: #00af00\">256</span>, <span style=\"color: #00af00; text-decoration-color: #00af00\">256</span>, <span style=\"color: #00af00; text-decoration-color: #00af00\">32</span>)   │         <span style=\"color: #00af00; text-decoration-color: #00af00\">9,248</span> │\n",
       "├─────────────────────────────────┼────────────────────────┼───────────────┤\n",
       "│ max_pooling2d (<span style=\"color: #0087ff; text-decoration-color: #0087ff\">MaxPooling2D</span>)    │ (<span style=\"color: #00d7ff; text-decoration-color: #00d7ff\">None</span>, <span style=\"color: #00af00; text-decoration-color: #00af00\">128</span>, <span style=\"color: #00af00; text-decoration-color: #00af00\">128</span>, <span style=\"color: #00af00; text-decoration-color: #00af00\">32</span>)   │             <span style=\"color: #00af00; text-decoration-color: #00af00\">0</span> │\n",
       "├─────────────────────────────────┼────────────────────────┼───────────────┤\n",
       "│ dropout (<span style=\"color: #0087ff; text-decoration-color: #0087ff\">Dropout</span>)               │ (<span style=\"color: #00d7ff; text-decoration-color: #00d7ff\">None</span>, <span style=\"color: #00af00; text-decoration-color: #00af00\">128</span>, <span style=\"color: #00af00; text-decoration-color: #00af00\">128</span>, <span style=\"color: #00af00; text-decoration-color: #00af00\">32</span>)   │             <span style=\"color: #00af00; text-decoration-color: #00af00\">0</span> │\n",
       "├─────────────────────────────────┼────────────────────────┼───────────────┤\n",
       "│ conv2d_2 (<span style=\"color: #0087ff; text-decoration-color: #0087ff\">Conv2D</span>)               │ (<span style=\"color: #00d7ff; text-decoration-color: #00d7ff\">None</span>, <span style=\"color: #00af00; text-decoration-color: #00af00\">128</span>, <span style=\"color: #00af00; text-decoration-color: #00af00\">128</span>, <span style=\"color: #00af00; text-decoration-color: #00af00\">64</span>)   │        <span style=\"color: #00af00; text-decoration-color: #00af00\">18,496</span> │\n",
       "├─────────────────────────────────┼────────────────────────┼───────────────┤\n",
       "│ conv2d_3 (<span style=\"color: #0087ff; text-decoration-color: #0087ff\">Conv2D</span>)               │ (<span style=\"color: #00d7ff; text-decoration-color: #00d7ff\">None</span>, <span style=\"color: #00af00; text-decoration-color: #00af00\">128</span>, <span style=\"color: #00af00; text-decoration-color: #00af00\">128</span>, <span style=\"color: #00af00; text-decoration-color: #00af00\">64</span>)   │        <span style=\"color: #00af00; text-decoration-color: #00af00\">36,928</span> │\n",
       "├─────────────────────────────────┼────────────────────────┼───────────────┤\n",
       "│ max_pooling2d_1 (<span style=\"color: #0087ff; text-decoration-color: #0087ff\">MaxPooling2D</span>)  │ (<span style=\"color: #00d7ff; text-decoration-color: #00d7ff\">None</span>, <span style=\"color: #00af00; text-decoration-color: #00af00\">64</span>, <span style=\"color: #00af00; text-decoration-color: #00af00\">64</span>, <span style=\"color: #00af00; text-decoration-color: #00af00\">64</span>)     │             <span style=\"color: #00af00; text-decoration-color: #00af00\">0</span> │\n",
       "├─────────────────────────────────┼────────────────────────┼───────────────┤\n",
       "│ dropout_1 (<span style=\"color: #0087ff; text-decoration-color: #0087ff\">Dropout</span>)             │ (<span style=\"color: #00d7ff; text-decoration-color: #00d7ff\">None</span>, <span style=\"color: #00af00; text-decoration-color: #00af00\">64</span>, <span style=\"color: #00af00; text-decoration-color: #00af00\">64</span>, <span style=\"color: #00af00; text-decoration-color: #00af00\">64</span>)     │             <span style=\"color: #00af00; text-decoration-color: #00af00\">0</span> │\n",
       "├─────────────────────────────────┼────────────────────────┼───────────────┤\n",
       "│ conv2d_4 (<span style=\"color: #0087ff; text-decoration-color: #0087ff\">Conv2D</span>)               │ (<span style=\"color: #00d7ff; text-decoration-color: #00d7ff\">None</span>, <span style=\"color: #00af00; text-decoration-color: #00af00\">64</span>, <span style=\"color: #00af00; text-decoration-color: #00af00\">64</span>, <span style=\"color: #00af00; text-decoration-color: #00af00\">64</span>)     │        <span style=\"color: #00af00; text-decoration-color: #00af00\">36,928</span> │\n",
       "├─────────────────────────────────┼────────────────────────┼───────────────┤\n",
       "│ conv2d_5 (<span style=\"color: #0087ff; text-decoration-color: #0087ff\">Conv2D</span>)               │ (<span style=\"color: #00d7ff; text-decoration-color: #00d7ff\">None</span>, <span style=\"color: #00af00; text-decoration-color: #00af00\">64</span>, <span style=\"color: #00af00; text-decoration-color: #00af00\">64</span>, <span style=\"color: #00af00; text-decoration-color: #00af00\">64</span>)     │        <span style=\"color: #00af00; text-decoration-color: #00af00\">36,928</span> │\n",
       "├─────────────────────────────────┼────────────────────────┼───────────────┤\n",
       "│ max_pooling2d_2 (<span style=\"color: #0087ff; text-decoration-color: #0087ff\">MaxPooling2D</span>)  │ (<span style=\"color: #00d7ff; text-decoration-color: #00d7ff\">None</span>, <span style=\"color: #00af00; text-decoration-color: #00af00\">32</span>, <span style=\"color: #00af00; text-decoration-color: #00af00\">32</span>, <span style=\"color: #00af00; text-decoration-color: #00af00\">64</span>)     │             <span style=\"color: #00af00; text-decoration-color: #00af00\">0</span> │\n",
       "├─────────────────────────────────┼────────────────────────┼───────────────┤\n",
       "│ dropout_2 (<span style=\"color: #0087ff; text-decoration-color: #0087ff\">Dropout</span>)             │ (<span style=\"color: #00d7ff; text-decoration-color: #00d7ff\">None</span>, <span style=\"color: #00af00; text-decoration-color: #00af00\">32</span>, <span style=\"color: #00af00; text-decoration-color: #00af00\">32</span>, <span style=\"color: #00af00; text-decoration-color: #00af00\">64</span>)     │             <span style=\"color: #00af00; text-decoration-color: #00af00\">0</span> │\n",
       "├─────────────────────────────────┼────────────────────────┼───────────────┤\n",
       "│ flatten (<span style=\"color: #0087ff; text-decoration-color: #0087ff\">Flatten</span>)               │ (<span style=\"color: #00d7ff; text-decoration-color: #00d7ff\">None</span>, <span style=\"color: #00af00; text-decoration-color: #00af00\">65536</span>)          │             <span style=\"color: #00af00; text-decoration-color: #00af00\">0</span> │\n",
       "├─────────────────────────────────┼────────────────────────┼───────────────┤\n",
       "│ dense (<span style=\"color: #0087ff; text-decoration-color: #0087ff\">Dense</span>)                   │ (<span style=\"color: #00d7ff; text-decoration-color: #00d7ff\">None</span>, <span style=\"color: #00af00; text-decoration-color: #00af00\">512</span>)            │    <span style=\"color: #00af00; text-decoration-color: #00af00\">33,554,944</span> │\n",
       "├─────────────────────────────────┼────────────────────────┼───────────────┤\n",
       "│ dropout_3 (<span style=\"color: #0087ff; text-decoration-color: #0087ff\">Dropout</span>)             │ (<span style=\"color: #00d7ff; text-decoration-color: #00d7ff\">None</span>, <span style=\"color: #00af00; text-decoration-color: #00af00\">512</span>)            │             <span style=\"color: #00af00; text-decoration-color: #00af00\">0</span> │\n",
       "├─────────────────────────────────┼────────────────────────┼───────────────┤\n",
       "│ dense_1 (<span style=\"color: #0087ff; text-decoration-color: #0087ff\">Dense</span>)                 │ (<span style=\"color: #00d7ff; text-decoration-color: #00d7ff\">None</span>, <span style=\"color: #00af00; text-decoration-color: #00af00\">10</span>)             │         <span style=\"color: #00af00; text-decoration-color: #00af00\">5,130</span> │\n",
       "└─────────────────────────────────┴────────────────────────┴───────────────┘\n",
       "</pre>\n"
      ],
      "text/plain": [
       "┏━━━━━━━━━━━━━━━━━━━━━━━━━━━━━━━━━┳━━━━━━━━━━━━━━━━━━━━━━━━┳━━━━━━━━━━━━━━━┓\n",
       "┃\u001b[1m \u001b[0m\u001b[1mLayer (type)                   \u001b[0m\u001b[1m \u001b[0m┃\u001b[1m \u001b[0m\u001b[1mOutput Shape          \u001b[0m\u001b[1m \u001b[0m┃\u001b[1m \u001b[0m\u001b[1m      Param #\u001b[0m\u001b[1m \u001b[0m┃\n",
       "┡━━━━━━━━━━━━━━━━━━━━━━━━━━━━━━━━━╇━━━━━━━━━━━━━━━━━━━━━━━━╇━━━━━━━━━━━━━━━┩\n",
       "│ conv2d (\u001b[38;5;33mConv2D\u001b[0m)                 │ (\u001b[38;5;45mNone\u001b[0m, \u001b[38;5;34m256\u001b[0m, \u001b[38;5;34m256\u001b[0m, \u001b[38;5;34m32\u001b[0m)   │           \u001b[38;5;34m896\u001b[0m │\n",
       "├─────────────────────────────────┼────────────────────────┼───────────────┤\n",
       "│ conv2d_1 (\u001b[38;5;33mConv2D\u001b[0m)               │ (\u001b[38;5;45mNone\u001b[0m, \u001b[38;5;34m256\u001b[0m, \u001b[38;5;34m256\u001b[0m, \u001b[38;5;34m32\u001b[0m)   │         \u001b[38;5;34m9,248\u001b[0m │\n",
       "├─────────────────────────────────┼────────────────────────┼───────────────┤\n",
       "│ max_pooling2d (\u001b[38;5;33mMaxPooling2D\u001b[0m)    │ (\u001b[38;5;45mNone\u001b[0m, \u001b[38;5;34m128\u001b[0m, \u001b[38;5;34m128\u001b[0m, \u001b[38;5;34m32\u001b[0m)   │             \u001b[38;5;34m0\u001b[0m │\n",
       "├─────────────────────────────────┼────────────────────────┼───────────────┤\n",
       "│ dropout (\u001b[38;5;33mDropout\u001b[0m)               │ (\u001b[38;5;45mNone\u001b[0m, \u001b[38;5;34m128\u001b[0m, \u001b[38;5;34m128\u001b[0m, \u001b[38;5;34m32\u001b[0m)   │             \u001b[38;5;34m0\u001b[0m │\n",
       "├─────────────────────────────────┼────────────────────────┼───────────────┤\n",
       "│ conv2d_2 (\u001b[38;5;33mConv2D\u001b[0m)               │ (\u001b[38;5;45mNone\u001b[0m, \u001b[38;5;34m128\u001b[0m, \u001b[38;5;34m128\u001b[0m, \u001b[38;5;34m64\u001b[0m)   │        \u001b[38;5;34m18,496\u001b[0m │\n",
       "├─────────────────────────────────┼────────────────────────┼───────────────┤\n",
       "│ conv2d_3 (\u001b[38;5;33mConv2D\u001b[0m)               │ (\u001b[38;5;45mNone\u001b[0m, \u001b[38;5;34m128\u001b[0m, \u001b[38;5;34m128\u001b[0m, \u001b[38;5;34m64\u001b[0m)   │        \u001b[38;5;34m36,928\u001b[0m │\n",
       "├─────────────────────────────────┼────────────────────────┼───────────────┤\n",
       "│ max_pooling2d_1 (\u001b[38;5;33mMaxPooling2D\u001b[0m)  │ (\u001b[38;5;45mNone\u001b[0m, \u001b[38;5;34m64\u001b[0m, \u001b[38;5;34m64\u001b[0m, \u001b[38;5;34m64\u001b[0m)     │             \u001b[38;5;34m0\u001b[0m │\n",
       "├─────────────────────────────────┼────────────────────────┼───────────────┤\n",
       "│ dropout_1 (\u001b[38;5;33mDropout\u001b[0m)             │ (\u001b[38;5;45mNone\u001b[0m, \u001b[38;5;34m64\u001b[0m, \u001b[38;5;34m64\u001b[0m, \u001b[38;5;34m64\u001b[0m)     │             \u001b[38;5;34m0\u001b[0m │\n",
       "├─────────────────────────────────┼────────────────────────┼───────────────┤\n",
       "│ conv2d_4 (\u001b[38;5;33mConv2D\u001b[0m)               │ (\u001b[38;5;45mNone\u001b[0m, \u001b[38;5;34m64\u001b[0m, \u001b[38;5;34m64\u001b[0m, \u001b[38;5;34m64\u001b[0m)     │        \u001b[38;5;34m36,928\u001b[0m │\n",
       "├─────────────────────────────────┼────────────────────────┼───────────────┤\n",
       "│ conv2d_5 (\u001b[38;5;33mConv2D\u001b[0m)               │ (\u001b[38;5;45mNone\u001b[0m, \u001b[38;5;34m64\u001b[0m, \u001b[38;5;34m64\u001b[0m, \u001b[38;5;34m64\u001b[0m)     │        \u001b[38;5;34m36,928\u001b[0m │\n",
       "├─────────────────────────────────┼────────────────────────┼───────────────┤\n",
       "│ max_pooling2d_2 (\u001b[38;5;33mMaxPooling2D\u001b[0m)  │ (\u001b[38;5;45mNone\u001b[0m, \u001b[38;5;34m32\u001b[0m, \u001b[38;5;34m32\u001b[0m, \u001b[38;5;34m64\u001b[0m)     │             \u001b[38;5;34m0\u001b[0m │\n",
       "├─────────────────────────────────┼────────────────────────┼───────────────┤\n",
       "│ dropout_2 (\u001b[38;5;33mDropout\u001b[0m)             │ (\u001b[38;5;45mNone\u001b[0m, \u001b[38;5;34m32\u001b[0m, \u001b[38;5;34m32\u001b[0m, \u001b[38;5;34m64\u001b[0m)     │             \u001b[38;5;34m0\u001b[0m │\n",
       "├─────────────────────────────────┼────────────────────────┼───────────────┤\n",
       "│ flatten (\u001b[38;5;33mFlatten\u001b[0m)               │ (\u001b[38;5;45mNone\u001b[0m, \u001b[38;5;34m65536\u001b[0m)          │             \u001b[38;5;34m0\u001b[0m │\n",
       "├─────────────────────────────────┼────────────────────────┼───────────────┤\n",
       "│ dense (\u001b[38;5;33mDense\u001b[0m)                   │ (\u001b[38;5;45mNone\u001b[0m, \u001b[38;5;34m512\u001b[0m)            │    \u001b[38;5;34m33,554,944\u001b[0m │\n",
       "├─────────────────────────────────┼────────────────────────┼───────────────┤\n",
       "│ dropout_3 (\u001b[38;5;33mDropout\u001b[0m)             │ (\u001b[38;5;45mNone\u001b[0m, \u001b[38;5;34m512\u001b[0m)            │             \u001b[38;5;34m0\u001b[0m │\n",
       "├─────────────────────────────────┼────────────────────────┼───────────────┤\n",
       "│ dense_1 (\u001b[38;5;33mDense\u001b[0m)                 │ (\u001b[38;5;45mNone\u001b[0m, \u001b[38;5;34m10\u001b[0m)             │         \u001b[38;5;34m5,130\u001b[0m │\n",
       "└─────────────────────────────────┴────────────────────────┴───────────────┘\n"
      ]
     },
     "metadata": {},
     "output_type": "display_data"
    },
    {
     "data": {
      "text/html": [
       "<pre style=\"white-space:pre;overflow-x:auto;line-height:normal;font-family:Menlo,'DejaVu Sans Mono',consolas,'Courier New',monospace\"><span style=\"font-weight: bold\"> Total params: </span><span style=\"color: #00af00; text-decoration-color: #00af00\">67,398,998</span> (257.11 MB)\n",
       "</pre>\n"
      ],
      "text/plain": [
       "\u001b[1m Total params: \u001b[0m\u001b[38;5;34m67,398,998\u001b[0m (257.11 MB)\n"
      ]
     },
     "metadata": {},
     "output_type": "display_data"
    },
    {
     "data": {
      "text/html": [
       "<pre style=\"white-space:pre;overflow-x:auto;line-height:normal;font-family:Menlo,'DejaVu Sans Mono',consolas,'Courier New',monospace\"><span style=\"font-weight: bold\"> Trainable params: </span><span style=\"color: #00af00; text-decoration-color: #00af00\">33,699,498</span> (128.55 MB)\n",
       "</pre>\n"
      ],
      "text/plain": [
       "\u001b[1m Trainable params: \u001b[0m\u001b[38;5;34m33,699,498\u001b[0m (128.55 MB)\n"
      ]
     },
     "metadata": {},
     "output_type": "display_data"
    },
    {
     "data": {
      "text/html": [
       "<pre style=\"white-space:pre;overflow-x:auto;line-height:normal;font-family:Menlo,'DejaVu Sans Mono',consolas,'Courier New',monospace\"><span style=\"font-weight: bold\"> Non-trainable params: </span><span style=\"color: #00af00; text-decoration-color: #00af00\">0</span> (0.00 B)\n",
       "</pre>\n"
      ],
      "text/plain": [
       "\u001b[1m Non-trainable params: \u001b[0m\u001b[38;5;34m0\u001b[0m (0.00 B)\n"
      ]
     },
     "metadata": {},
     "output_type": "display_data"
    },
    {
     "data": {
      "text/html": [
       "<pre style=\"white-space:pre;overflow-x:auto;line-height:normal;font-family:Menlo,'DejaVu Sans Mono',consolas,'Courier New',monospace\"><span style=\"font-weight: bold\"> Optimizer params: </span><span style=\"color: #00af00; text-decoration-color: #00af00\">33,699,500</span> (128.55 MB)\n",
       "</pre>\n"
      ],
      "text/plain": [
       "\u001b[1m Optimizer params: \u001b[0m\u001b[38;5;34m33,699,500\u001b[0m (128.55 MB)\n"
      ]
     },
     "metadata": {},
     "output_type": "display_data"
    }
   ],
   "source": [
    "model.summary()"
   ]
  },
  {
   "cell_type": "code",
   "execution_count": 4,
   "metadata": {},
   "outputs": [],
   "source": [
    "from numpy import ndarray\n",
    "import numpy as np\n",
    "import librosa\n",
    "import matplotlib.pyplot as plt\n",
    "import cv2 as cv\n",
    "import io\n",
    "import base64\n",
    "\n",
    "HOP_LENGTH = 512        # number of samples between successive frames\n",
    "WINDOW_LENGTH = 512     # length of the window in samples\n",
    "N_MEL = 128             # number of Mel bands to generate\n",
    "\n",
    "\n",
    "def spectrogram_fixed_length(audio, rate, total_samples = 128) -> ndarray:\n",
    "    spectrogram = librosa.feature.melspectrogram(\n",
    "        y = audio, \n",
    "        sr=rate, \n",
    "        hop_length=HOP_LENGTH, \n",
    "        win_length=WINDOW_LENGTH,\n",
    "        n_fft=512\n",
    "    )\n",
    "\n",
    "    spectrogram_db = librosa.power_to_db(spectrogram, ref=np.max)\n",
    "\n",
    "    spectrogram_length = spectrogram_db.shape[1]\n",
    "\n",
    "    if spectrogram_length != total_samples:\n",
    "        spectrogram_db = librosa.util.fix_length(\n",
    "            spectrogram_db, size=total_samples, axis=1,\n",
    "\n",
    "            #constant_values=(0, -80)\n",
    "        )\n",
    "    \n",
    "    return spectrogram_db\n",
    "\n",
    "\n",
    "def generate_spectrogram(audio, sample_rate):\n",
    "    spectrogram = spectrogram_fixed_length(audio, sample_rate)\n",
    "    librosa.display.specshow(spectrogram, cmap='viridis')\n",
    "    plt.axis('tight')\n",
    "    plt.axis('off')\n",
    "    plt.tight_layout()\n",
    "    plt.savefig(\"uploads/spectrogram.png\", bbox_inches=\"tight\", pad_inches=0.0)\n",
    "\n",
    "\n",
    "\n",
    "# TODO: use sliding window\n",
    "def preprocess_audio(audio):\n",
    "    DURATION = 3\n",
    "    audio, sample_rate = librosa.load(audio, duration=DURATION, res_type='kaiser_fast')\n",
    "    generate_spectrogram(audio, sample_rate)\n",
    "   \n",
    "    # fig, ax = plt.subplots(figsize=(8, 6))\n",
    "    # fig.axis('tight')\n",
    "    # fig.axis('off')\n",
    "    # fig.tight_layout()\n",
    "    # spectrogram = librosa.display.spectrogram(spectrogram)\n",
    "    # plt.close(fig)\n",
    "\n",
    "    IMG_SIZE = 256\n",
    "\n",
    "    img_array = cv.imread(\"uploads/spectrogram.png\")\n",
    "    new_array = cv.resize(img_array, (IMG_SIZE, IMG_SIZE))\n",
    "\n",
    "    print(\"Done!\")\n",
    "\n",
    "    return np.array(new_array).reshape(-1, IMG_SIZE, IMG_SIZE, 3) / 255\n"
   ]
  },
  {
   "cell_type": "code",
   "execution_count": null,
   "metadata": {},
   "outputs": [
    {
     "name": "stdout",
     "output_type": "stream",
     "text": [
      " * Serving Flask app 'Audio Classifier'\n",
      " * Debug mode: off\n"
     ]
    },
    {
     "name": "stderr",
     "output_type": "stream",
     "text": [
      "WARNING: This is a development server. Do not use it in a production deployment. Use a production WSGI server instead.\n",
      " * Running on http://127.0.0.1:5000\n",
      "Press CTRL+C to quit\n"
     ]
    },
    {
     "name": "stdout",
     "output_type": "stream",
     "text": [
      "Done!\n",
      "predicting...\n",
      "\u001b[1m1/1\u001b[0m \u001b[32m━━━━━━━━━━━━━━━━━━━━\u001b[0m\u001b[37m\u001b[0m \u001b[1m0s\u001b[0m 53ms/step\n"
     ]
    },
    {
     "name": "stderr",
     "output_type": "stream",
     "text": [
      "127.0.0.1 - - [07/Apr/2025 16:02:12] \"POST /classify HTTP/1.1\" 200 -\n"
     ]
    },
    {
     "name": "stdout",
     "output_type": "stream",
     "text": [
      "[1.3643700e-13 1.7709755e-09 4.3041070e-04 6.7096233e-05 3.4395241e-06\n",
      " 5.2609261e-07 4.1817664e-13 1.4929240e-06 1.9591214e-05 9.9947745e-01]\n",
      "{'air_conditioner': 1.3643700427258543e-11, 'car_horn': 1.77097547737759e-07, 'children_playing': 0.043041069875471294, 'dog_bark': 0.006709623266942799, 'drilling': 0.0003439524107307079, 'engine_idling': 5.260926059236226e-05, 'gun_shot': 4.181766424023875e-11, 'jackhammer': 0.0001492923956902814, 'siren': 0.0019591214368119836, 'street_music': 99.94774460792542}\n",
      "audio/mpeg\n"
     ]
    },
    {
     "name": "stderr",
     "output_type": "stream",
     "text": [
      "127.0.0.1 - - [07/Apr/2025 16:10:01] \"GET / HTTP/1.1\" 200 -\n"
     ]
    },
    {
     "name": "stdout",
     "output_type": "stream",
     "text": [
      "Done!\n",
      "predicting...\n",
      "\u001b[1m1/1\u001b[0m \u001b[32m━━━━━━━━━━━━━━━━━━━━\u001b[0m\u001b[37m\u001b[0m \u001b[1m0s\u001b[0m 71ms/step\n"
     ]
    },
    {
     "name": "stderr",
     "output_type": "stream",
     "text": [
      "127.0.0.1 - - [07/Apr/2025 16:10:11] \"POST /classify HTTP/1.1\" 200 -\n"
     ]
    },
    {
     "name": "stdout",
     "output_type": "stream",
     "text": [
      "[2.4352279e-10 6.8063479e-09 4.1455866e-07 3.2347099e-05 2.4691453e-05\n",
      " 9.9850792e-01 1.0268558e-10 1.9161579e-08 1.4337784e-03 8.5952638e-07]\n",
      "{'air_conditioner': 2.4352278527040028e-08, 'car_horn': 6.80634792971091e-07, 'children_playing': 4.145586558479408e-05, 'dog_bark': 0.0032347099477192387, 'drilling': 0.0024691453290870413, 'engine_idling': 99.85079169273376, 'gun_shot': 1.0268558225945412e-08, 'jackhammer': 1.9161578990178896e-06, 'siren': 0.14337784377858043, 'street_music': 8.595263807364972e-05}\n",
      "audio/mpeg\n",
      "Done!\n",
      "predicting...\n",
      "\u001b[1m1/1\u001b[0m \u001b[32m━━━━━━━━━━━━━━━━━━━━\u001b[0m\u001b[37m\u001b[0m \u001b[1m0s\u001b[0m 82ms/step\n"
     ]
    },
    {
     "name": "stderr",
     "output_type": "stream",
     "text": [
      "127.0.0.1 - - [07/Apr/2025 16:10:19] \"POST /classify HTTP/1.1\" 200 -\n"
     ]
    },
    {
     "name": "stdout",
     "output_type": "stream",
     "text": [
      "[2.1965635e-08 1.8992361e-05 2.3117539e-02 3.6896443e-01 1.0106901e-05\n",
      " 6.3202614e-03 2.4294415e-08 1.3944797e-03 1.3756912e-03 5.9879845e-01]\n",
      "{'air_conditioner': 2.1965634644516285e-06, 'car_horn': 0.0018992361219716258, 'children_playing': 2.3117538541555405, 'dog_bark': 36.896443367004395, 'drilling': 0.001010690084513044, 'engine_idling': 0.6320261396467686, 'gun_shot': 2.42944153683311e-06, 'jackhammer': 0.13944796519353986, 'siren': 0.1375691150315106, 'street_music': 59.87984538078308}\n",
      "audio/mpeg\n",
      "Done!\n",
      "predicting...\n",
      "\u001b[1m1/1\u001b[0m \u001b[32m━━━━━━━━━━━━━━━━━━━━\u001b[0m\u001b[37m\u001b[0m \u001b[1m0s\u001b[0m 56ms/step\n"
     ]
    },
    {
     "name": "stderr",
     "output_type": "stream",
     "text": [
      "127.0.0.1 - - [07/Apr/2025 16:10:27] \"POST /classify HTTP/1.1\" 200 -\n"
     ]
    },
    {
     "name": "stdout",
     "output_type": "stream",
     "text": [
      "[2.1965635e-08 1.8992361e-05 2.3117539e-02 3.6896443e-01 1.0106901e-05\n",
      " 6.3202614e-03 2.4294415e-08 1.3944797e-03 1.3756912e-03 5.9879845e-01]\n",
      "{'air_conditioner': 2.1965634644516285e-06, 'car_horn': 0.0018992361219716258, 'children_playing': 2.3117538541555405, 'dog_bark': 36.896443367004395, 'drilling': 0.001010690084513044, 'engine_idling': 0.6320261396467686, 'gun_shot': 2.42944153683311e-06, 'jackhammer': 0.13944796519353986, 'siren': 0.1375691150315106, 'street_music': 59.87984538078308}\n",
      "audio/mpeg\n",
      "Done!\n",
      "predicting...\n",
      "\u001b[1m1/1\u001b[0m \u001b[32m━━━━━━━━━━━━━━━━━━━━\u001b[0m\u001b[37m\u001b[0m \u001b[1m0s\u001b[0m 57ms/step\n"
     ]
    },
    {
     "name": "stderr",
     "output_type": "stream",
     "text": [
      "127.0.0.1 - - [07/Apr/2025 16:10:29] \"POST /classify HTTP/1.1\" 200 -\n"
     ]
    },
    {
     "name": "stdout",
     "output_type": "stream",
     "text": [
      "[2.1965635e-08 1.8992361e-05 2.3117539e-02 3.6896443e-01 1.0106901e-05\n",
      " 6.3202614e-03 2.4294415e-08 1.3944797e-03 1.3756912e-03 5.9879845e-01]\n",
      "{'air_conditioner': 2.1965634644516285e-06, 'car_horn': 0.0018992361219716258, 'children_playing': 2.3117538541555405, 'dog_bark': 36.896443367004395, 'drilling': 0.001010690084513044, 'engine_idling': 0.6320261396467686, 'gun_shot': 2.42944153683311e-06, 'jackhammer': 0.13944796519353986, 'siren': 0.1375691150315106, 'street_music': 59.87984538078308}\n",
      "audio/mpeg\n",
      "Done!\n",
      "predicting...\n",
      "\u001b[1m1/1\u001b[0m \u001b[32m━━━━━━━━━━━━━━━━━━━━\u001b[0m\u001b[37m\u001b[0m \u001b[1m0s\u001b[0m 62ms/step\n"
     ]
    },
    {
     "name": "stderr",
     "output_type": "stream",
     "text": [
      "127.0.0.1 - - [07/Apr/2025 16:10:36] \"POST /classify HTTP/1.1\" 200 -\n"
     ]
    },
    {
     "name": "stdout",
     "output_type": "stream",
     "text": [
      "[3.4758770e-07 2.1354235e-03 1.1378499e-03 9.5995754e-01 2.2112406e-03\n",
      " 1.0742615e-02 5.2958137e-07 3.9265142e-04 2.6513299e-03 2.0770509e-02]\n",
      "{'air_conditioner': 3.475877008440875e-05, 'car_horn': 0.21354234777390957, 'children_playing': 0.11378498747944832, 'dog_bark': 95.99575400352478, 'drilling': 0.22112405858933926, 'engine_idling': 1.0742614977061749, 'gun_shot': 5.295813707562047e-05, 'jackhammer': 0.03926514182239771, 'siren': 0.26513298507779837, 'street_music': 2.077050879597664}\n",
      "audio/mpeg\n",
      "Done!\n",
      "predicting...\n",
      "\u001b[1m1/1\u001b[0m \u001b[32m━━━━━━━━━━━━━━━━━━━━\u001b[0m\u001b[37m\u001b[0m \u001b[1m0s\u001b[0m 52ms/step\n"
     ]
    },
    {
     "name": "stderr",
     "output_type": "stream",
     "text": [
      "127.0.0.1 - - [07/Apr/2025 16:10:49] \"POST /classify HTTP/1.1\" 200 -\n"
     ]
    },
    {
     "name": "stdout",
     "output_type": "stream",
     "text": [
      "[3.4758770e-07 2.1354235e-03 1.1378499e-03 9.5995754e-01 2.2112406e-03\n",
      " 1.0742615e-02 5.2958137e-07 3.9265142e-04 2.6513299e-03 2.0770509e-02]\n",
      "{'air_conditioner': 3.475877008440875e-05, 'car_horn': 0.21354234777390957, 'children_playing': 0.11378498747944832, 'dog_bark': 95.99575400352478, 'drilling': 0.22112405858933926, 'engine_idling': 1.0742614977061749, 'gun_shot': 5.295813707562047e-05, 'jackhammer': 0.03926514182239771, 'siren': 0.26513298507779837, 'street_music': 2.077050879597664}\n",
      "audio/mpeg\n",
      "Done!\n",
      "predicting...\n",
      "\u001b[1m1/1\u001b[0m \u001b[32m━━━━━━━━━━━━━━━━━━━━\u001b[0m\u001b[37m\u001b[0m \u001b[1m0s\u001b[0m 52ms/step\n"
     ]
    },
    {
     "name": "stderr",
     "output_type": "stream",
     "text": [
      "127.0.0.1 - - [07/Apr/2025 16:10:57] \"POST /classify HTTP/1.1\" 200 -\n"
     ]
    },
    {
     "name": "stdout",
     "output_type": "stream",
     "text": [
      "[4.6498567e-07 1.1730238e-03 4.0649627e-03 6.4559062e-03 6.2279493e-01\n",
      " 6.8493612e-04 4.9281545e-07 3.4847555e-01 3.5925020e-04 1.5990479e-02]\n",
      "{'air_conditioner': 4.649856748528691e-05, 'car_horn': 0.11730238329619169, 'children_playing': 0.40649627335369587, 'dog_bark': 0.6455906201153994, 'drilling': 62.27949261665344, 'engine_idling': 0.06849361234344542, 'gun_shot': 4.928154453409661e-05, 'jackhammer': 34.84755456447601, 'siren': 0.035925020347349346, 'street_music': 1.5990478917956352}\n",
      "audio/wav\n",
      "Done!\n",
      "predicting...\n",
      "\u001b[1m1/1\u001b[0m \u001b[32m━━━━━━━━━━━━━━━━━━━━\u001b[0m\u001b[37m\u001b[0m \u001b[1m0s\u001b[0m 55ms/step\n"
     ]
    },
    {
     "name": "stderr",
     "output_type": "stream",
     "text": [
      "127.0.0.1 - - [07/Apr/2025 16:11:07] \"POST /classify HTTP/1.1\" 200 -\n"
     ]
    },
    {
     "name": "stdout",
     "output_type": "stream",
     "text": [
      "[4.6498567e-07 1.1730238e-03 4.0649627e-03 6.4559062e-03 6.2279493e-01\n",
      " 6.8493612e-04 4.9281545e-07 3.4847555e-01 3.5925020e-04 1.5990479e-02]\n",
      "{'air_conditioner': 4.649856748528691e-05, 'car_horn': 0.11730238329619169, 'children_playing': 0.40649627335369587, 'dog_bark': 0.6455906201153994, 'drilling': 62.27949261665344, 'engine_idling': 0.06849361234344542, 'gun_shot': 4.928154453409661e-05, 'jackhammer': 34.84755456447601, 'siren': 0.035925020347349346, 'street_music': 1.5990478917956352}\n",
      "audio/wav\n",
      "Done!\n",
      "predicting...\n",
      "\u001b[1m1/1\u001b[0m \u001b[32m━━━━━━━━━━━━━━━━━━━━\u001b[0m\u001b[37m\u001b[0m \u001b[1m0s\u001b[0m 59ms/step\n"
     ]
    },
    {
     "name": "stderr",
     "output_type": "stream",
     "text": [
      "127.0.0.1 - - [07/Apr/2025 16:11:12] \"POST /classify HTTP/1.1\" 200 -\n"
     ]
    },
    {
     "name": "stdout",
     "output_type": "stream",
     "text": [
      "[7.0026784e-09 6.5059413e-07 1.0594315e-03 1.1561444e-02 3.3444955e-04\n",
      " 9.5475334e-01 9.9548569e-10 1.3011200e-05 2.4982534e-02 7.2951186e-03]\n",
      "{'air_conditioner': 7.002678437117993e-07, 'car_horn': 6.505941314571828e-05, 'children_playing': 0.10594314662739635, 'dog_bark': 1.1561444029211998, 'drilling': 0.03344495489727706, 'engine_idling': 95.47533392906189, 'gun_shot': 9.954856938776402e-08, 'jackhammer': 0.0013011200280743651, 'siren': 2.498253434896469, 'street_music': 0.7295118644833565}\n",
      "audio/wav\n",
      "Done!\n",
      "predicting...\n",
      "\u001b[1m1/1\u001b[0m \u001b[32m━━━━━━━━━━━━━━━━━━━━\u001b[0m\u001b[37m\u001b[0m \u001b[1m0s\u001b[0m 73ms/step\n"
     ]
    },
    {
     "name": "stderr",
     "output_type": "stream",
     "text": [
      "127.0.0.1 - - [07/Apr/2025 16:11:32] \"POST /classify HTTP/1.1\" 200 -\n"
     ]
    },
    {
     "name": "stdout",
     "output_type": "stream",
     "text": [
      "[3.2053471e-10 1.7991982e-06 1.2795176e-01 6.6575394e-03 1.0067465e-03\n",
      " 4.6369223e-06 2.4855762e-09 6.0596864e-04 7.5725883e-02 7.8804570e-01]\n",
      "{'air_conditioner': 3.205347098855782e-08, 'car_horn': 0.0001799198230401089, 'children_playing': 12.795175611972809, 'dog_bark': 0.6657539401203394, 'drilling': 0.10067465482279658, 'engine_idling': 0.00046369223127840087, 'gun_shot': 2.4855761893149975e-07, 'jackhammer': 0.06059686420485377, 'siren': 7.572588324546814, 'street_music': 78.80457043647766}\n",
      "audio/wav\n",
      "Done!\n",
      "predicting...\n",
      "\u001b[1m1/1\u001b[0m \u001b[32m━━━━━━━━━━━━━━━━━━━━\u001b[0m\u001b[37m\u001b[0m \u001b[1m0s\u001b[0m 55ms/step\n"
     ]
    },
    {
     "name": "stderr",
     "output_type": "stream",
     "text": [
      "127.0.0.1 - - [07/Apr/2025 16:12:00] \"POST /classify HTTP/1.1\" 200 -\n"
     ]
    },
    {
     "name": "stdout",
     "output_type": "stream",
     "text": [
      "[4.1585035e-06 4.6260064e-04 7.1120611e-03 2.6657805e-02 2.4878848e-02\n",
      " 1.7589420e-02 2.6248094e-06 3.0735915e-03 8.5734761e-01 6.2871210e-02]\n",
      "{'air_conditioner': 0.00041585035432945006, 'car_horn': 0.04626006411854178, 'children_playing': 0.7112061139196157, 'dog_bark': 2.665780484676361, 'drilling': 2.48788483440876, 'engine_idling': 1.7589420080184937, 'gun_shot': 0.0002624809440021636, 'jackhammer': 0.30735915061086416, 'siren': 85.73476076126099, 'street_music': 6.287121027708054}\n",
      "audio/wav\n",
      "Done!\n",
      "predicting...\n",
      "\u001b[1m1/1\u001b[0m \u001b[32m━━━━━━━━━━━━━━━━━━━━\u001b[0m\u001b[37m\u001b[0m \u001b[1m0s\u001b[0m 53ms/step\n"
     ]
    },
    {
     "name": "stderr",
     "output_type": "stream",
     "text": [
      "127.0.0.1 - - [07/Apr/2025 16:12:13] \"POST /classify HTTP/1.1\" 200 -\n"
     ]
    },
    {
     "name": "stdout",
     "output_type": "stream",
     "text": [
      "[2.26007046e-07 1.35454629e-05 2.40230211e-03 2.64289905e-03\n",
      " 2.13031354e-03 9.91325453e-03 1.00581580e-07 1.08660031e-04\n",
      " 9.72077310e-01 1.07113235e-02]\n",
      "{'air_conditioner': 2.260070459669805e-05, 'car_horn': 0.0013545462934416719, 'children_playing': 0.2402302110567689, 'dog_bark': 0.2642899053171277, 'drilling': 0.21303135436028242, 'engine_idling': 0.9913254529237747, 'gun_shot': 1.0058158039782938e-05, 'jackhammer': 0.01086600314010866, 'siren': 97.20773100852966, 'street_music': 1.0711323469877243}\n",
      "audio/wav\n",
      "Done!\n",
      "predicting...\n",
      "\u001b[1m1/1\u001b[0m \u001b[32m━━━━━━━━━━━━━━━━━━━━\u001b[0m\u001b[37m\u001b[0m \u001b[1m0s\u001b[0m 53ms/step\n"
     ]
    },
    {
     "name": "stderr",
     "output_type": "stream",
     "text": [
      "127.0.0.1 - - [07/Apr/2025 16:12:32] \"POST /classify HTTP/1.1\" 200 -\n"
     ]
    },
    {
     "name": "stdout",
     "output_type": "stream",
     "text": [
      "[1.3754544e-07 1.2806372e-05 3.7054617e-03 6.5865420e-04 3.1437601e-03\n",
      " 4.7942405e-04 9.7082108e-08 1.2948195e-04 9.7988063e-01 1.1989603e-02]\n",
      "{'air_conditioner': 1.3754544170296867e-05, 'car_horn': 0.0012806372069462668, 'children_playing': 0.37054617423564196, 'dog_bark': 0.06586542003788054, 'drilling': 0.31437601428478956, 'engine_idling': 0.04794240521732718, 'gun_shot': 9.708210768621939e-06, 'jackhammer': 0.012948195217177272, 'siren': 97.98806309700012, 'street_music': 1.1989602819085121}\n",
      "audio/wav\n",
      "Done!\n",
      "predicting...\n",
      "\u001b[1m1/1\u001b[0m \u001b[32m━━━━━━━━━━━━━━━━━━━━\u001b[0m\u001b[37m\u001b[0m \u001b[1m0s\u001b[0m 53ms/step\n"
     ]
    },
    {
     "name": "stderr",
     "output_type": "stream",
     "text": [
      "127.0.0.1 - - [07/Apr/2025 16:13:22] \"POST /classify HTTP/1.1\" 200 -\n"
     ]
    },
    {
     "name": "stdout",
     "output_type": "stream",
     "text": [
      "[1.1205673e-04 9.4979629e-03 1.2509472e-02 3.4991294e-01 5.5587743e-03\n",
      " 2.3971619e-01 1.0089910e-04 1.2961554e-02 2.3323117e-02 3.4630701e-01]\n",
      "{'air_conditioner': 0.011205673217773438, 'car_horn': 0.9497962892055511, 'children_playing': 1.2509471736848354, 'dog_bark': 34.991294145584106, 'drilling': 0.5558774340897799, 'engine_idling': 23.971618711948395, 'gun_shot': 0.010089910210808739, 'jackhammer': 1.29615543410182, 'siren': 2.3323116824030876, 'street_music': 34.63070094585419}\n",
      "audio/wav\n",
      "Done!\n",
      "predicting...\n",
      "\u001b[1m1/1\u001b[0m \u001b[32m━━━━━━━━━━━━━━━━━━━━\u001b[0m\u001b[37m\u001b[0m \u001b[1m0s\u001b[0m 56ms/step\n"
     ]
    },
    {
     "name": "stderr",
     "output_type": "stream",
     "text": [
      "127.0.0.1 - - [07/Apr/2025 16:13:46] \"POST /classify HTTP/1.1\" 200 -\n"
     ]
    },
    {
     "name": "stdout",
     "output_type": "stream",
     "text": [
      "[1.7236784e-09 1.1909266e-07 1.8971175e-03 2.3328667e-03 5.3042375e-05\n",
      " 9.9373356e-06 3.7990300e-09 5.6135854e-05 9.9478096e-01 8.6978206e-04]\n",
      "{'air_conditioner': 1.7236784222163237e-07, 'car_horn': 1.1909266106613359e-05, 'children_playing': 0.18971174722537398, 'dog_bark': 0.2332866657525301, 'drilling': 0.005304237492964603, 'engine_idling': 0.0009937335562426597, 'gun_shot': 3.7990299794898874e-07, 'jackhammer': 0.005613585381070152, 'siren': 99.4780957698822, 'street_music': 0.08697820594534278}\n",
      "audio/mpeg\n",
      "Done!\n",
      "predicting...\n",
      "\u001b[1m1/1\u001b[0m \u001b[32m━━━━━━━━━━━━━━━━━━━━\u001b[0m\u001b[37m\u001b[0m \u001b[1m0s\u001b[0m 65ms/step\n"
     ]
    },
    {
     "name": "stderr",
     "output_type": "stream",
     "text": [
      "127.0.0.1 - - [07/Apr/2025 16:14:04] \"POST /classify HTTP/1.1\" 200 -\n"
     ]
    },
    {
     "name": "stdout",
     "output_type": "stream",
     "text": [
      "[4.9441442e-09 3.3348028e-05 1.3487958e-04 9.8975396e-01 1.3619255e-04\n",
      " 2.2538574e-03 1.1179372e-08 1.3250755e-05 4.7152457e-04 7.2030099e-03]\n",
      "{'air_conditioner': 4.944144205154544e-07, 'car_horn': 0.003334802750032395, 'children_playing': 0.0134879577672109, 'dog_bark': 98.97539615631104, 'drilling': 0.013619255332741886, 'engine_idling': 0.22538574412465096, 'gun_shot': 1.11793720947162e-06, 'jackhammer': 0.0013250754818727728, 'siren': 0.04715245740953833, 'street_music': 0.7203009910881519}\n",
      "audio/wav\n",
      "Done!\n",
      "predicting...\n",
      "\u001b[1m1/1\u001b[0m \u001b[32m━━━━━━━━━━━━━━━━━━━━\u001b[0m\u001b[37m\u001b[0m \u001b[1m0s\u001b[0m 57ms/step\n"
     ]
    },
    {
     "name": "stderr",
     "output_type": "stream",
     "text": [
      "127.0.0.1 - - [07/Apr/2025 16:14:16] \"POST /classify HTTP/1.1\" 200 -\n"
     ]
    },
    {
     "name": "stdout",
     "output_type": "stream",
     "text": [
      "[7.4606481e-07 4.2885062e-03 1.5836515e-03 6.5160751e-01 4.8930370e-03\n",
      " 2.9249819e-02 6.7044510e-07 1.7736285e-03 5.6425465e-04 3.0603826e-01]\n",
      "{'air_conditioner': 7.460648134838266e-05, 'car_horn': 0.4288506228476763, 'children_playing': 0.15836515231058002, 'dog_bark': 65.16075134277344, 'drilling': 0.4893037024885416, 'engine_idling': 2.924981899559498, 'gun_shot': 6.704451038785919e-05, 'jackhammer': 0.17736285226419568, 'siren': 0.056425464572384953, 'street_music': 30.60382604598999}\n",
      "audio/wav\n",
      "Done!\n",
      "predicting...\n",
      "\u001b[1m1/1\u001b[0m \u001b[32m━━━━━━━━━━━━━━━━━━━━\u001b[0m\u001b[37m\u001b[0m \u001b[1m0s\u001b[0m 76ms/step\n"
     ]
    },
    {
     "name": "stderr",
     "output_type": "stream",
     "text": [
      "127.0.0.1 - - [07/Apr/2025 16:14:37] \"POST /classify HTTP/1.1\" 200 -\n"
     ]
    },
    {
     "name": "stdout",
     "output_type": "stream",
     "text": [
      "[1.7207291e-10 2.6593439e-06 5.0738447e-05 9.9726272e-01 1.1770314e-05\n",
      " 1.8688959e-04 5.7528499e-10 1.8833094e-06 1.1276200e-04 2.3706318e-03]\n",
      "{'air_conditioner': 1.720729114751407e-08, 'car_horn': 0.0002659343863342656, 'children_playing': 0.0050738446589093655, 'dog_bark': 99.7262716293335, 'drilling': 0.0011770313903980423, 'engine_idling': 0.01868895924417302, 'gun_shot': 5.752849863149834e-08, 'jackhammer': 0.00018833094372894266, 'siren': 0.011276199802523479, 'street_music': 0.23706317879259586}\n",
      "audio/mpeg\n",
      "Done!\n",
      "predicting...\n",
      "\u001b[1m1/1\u001b[0m \u001b[32m━━━━━━━━━━━━━━━━━━━━\u001b[0m\u001b[37m\u001b[0m \u001b[1m0s\u001b[0m 67ms/step\n"
     ]
    },
    {
     "name": "stderr",
     "output_type": "stream",
     "text": [
      "127.0.0.1 - - [07/Apr/2025 16:14:45] \"POST /classify HTTP/1.1\" 200 -\n"
     ]
    },
    {
     "name": "stdout",
     "output_type": "stream",
     "text": [
      "[3.8864525e-07 9.7339624e-05 1.3819317e-03 9.1730016e-01 6.6457433e-04\n",
      " 2.7623970e-02 5.6633263e-07 1.9295242e-04 4.1459156e-03 4.8592176e-02]\n",
      "{'air_conditioner': 3.8864524753989826e-05, 'car_horn': 0.00973396236076951, 'children_playing': 0.13819317100569606, 'dog_bark': 91.73001646995544, 'drilling': 0.06645743269473314, 'engine_idling': 2.7623970061540604, 'gun_shot': 5.663326305693772e-05, 'jackhammer': 0.01929524150909856, 'siren': 0.41459156200289726, 'street_music': 4.859217628836632}\n",
      "audio/wav\n",
      "Done!\n",
      "predicting...\n",
      "\u001b[1m1/1\u001b[0m \u001b[32m━━━━━━━━━━━━━━━━━━━━\u001b[0m\u001b[37m\u001b[0m \u001b[1m0s\u001b[0m 53ms/step\n"
     ]
    },
    {
     "name": "stderr",
     "output_type": "stream",
     "text": [
      "127.0.0.1 - - [07/Apr/2025 16:14:55] \"POST /classify HTTP/1.1\" 200 -\n"
     ]
    },
    {
     "name": "stdout",
     "output_type": "stream",
     "text": [
      "[1.5730611e-12 5.6038223e-09 4.4052333e-01 4.9025391e-05 4.9285922e-04\n",
      " 3.1956242e-07 1.9717964e-12 3.9585740e-03 8.1658803e-02 4.7331709e-01]\n",
      "{'air_conditioner': 1.5730611258035765e-10, 'car_horn': 5.603822295086047e-07, 'children_playing': 44.052332639694214, 'dog_bark': 0.00490253914904315, 'drilling': 0.04928592243231833, 'engine_idling': 3.195624174168188e-05, 'gun_shot': 1.9717964240550945e-10, 'jackhammer': 0.3958574030548334, 'siren': 8.165880292654037, 'street_music': 47.331708669662476}\n",
      "audio/mpeg\n"
     ]
    },
    {
     "name": "stderr",
     "output_type": "stream",
     "text": [
      "c:\\Users\\usher\\AppData\\Local\\Programs\\Python\\Python311\\Lib\\site-packages\\librosa\\core\\spectrum.py:266: UserWarning: n_fft=512 is too large for input signal of length=223\n",
      "  warnings.warn(\n"
     ]
    },
    {
     "name": "stdout",
     "output_type": "stream",
     "text": [
      "Done!\n",
      "predicting...\n",
      "\u001b[1m1/1\u001b[0m \u001b[32m━━━━━━━━━━━━━━━━━━━━\u001b[0m\u001b[37m\u001b[0m \u001b[1m0s\u001b[0m 55ms/step\n"
     ]
    },
    {
     "name": "stderr",
     "output_type": "stream",
     "text": [
      "127.0.0.1 - - [07/Apr/2025 16:15:44] \"POST /classify HTTP/1.1\" 200 -\n"
     ]
    },
    {
     "name": "stdout",
     "output_type": "stream",
     "text": [
      "[0.00967587 0.16758431 0.0476345  0.34986326 0.13051395 0.09606028\n",
      " 0.01143314 0.04976424 0.08654494 0.05092549]\n",
      "{'air_conditioner': 0.9675873443484306, 'car_horn': 16.758431494235992, 'children_playing': 4.763450473546982, 'dog_bark': 34.98632609844208, 'drilling': 13.051395118236542, 'engine_idling': 9.606027603149414, 'gun_shot': 1.1433139443397522, 'jackhammer': 4.97642420232296, 'siren': 8.65449383854866, 'street_music': 5.092548578977585}\n",
      "application/ogg\n",
      "Done!\n",
      "predicting...\n",
      "\u001b[1m1/1\u001b[0m \u001b[32m━━━━━━━━━━━━━━━━━━━━\u001b[0m\u001b[37m\u001b[0m \u001b[1m0s\u001b[0m 48ms/step\n"
     ]
    },
    {
     "name": "stderr",
     "output_type": "stream",
     "text": [
      "127.0.0.1 - - [07/Apr/2025 16:17:44] \"POST /classify HTTP/1.1\" 200 -\n"
     ]
    },
    {
     "name": "stdout",
     "output_type": "stream",
     "text": [
      "[9.25922723e-06 1.25049846e-03 9.15568415e-03 1.49888292e-01\n",
      " 1.18764065e-01 2.07155868e-02 2.19419071e-05 2.03274712e-01\n",
      " 1.25754317e-02 4.84344482e-01]\n",
      "{'air_conditioner': 0.0009259227226721123, 'car_horn': 0.12504984624683857, 'children_playing': 0.9155684150755405, 'dog_bark': 14.98882919549942, 'drilling': 11.876406520605087, 'engine_idling': 2.0715586841106415, 'gun_shot': 0.002194190710724797, 'jackhammer': 20.32747119665146, 'siren': 1.257543172687292, 'street_music': 48.4344482421875}\n",
      "audio/wav\n",
      "Done!\n",
      "predicting...\n",
      "\u001b[1m1/1\u001b[0m \u001b[32m━━━━━━━━━━━━━━━━━━━━\u001b[0m\u001b[37m\u001b[0m \u001b[1m0s\u001b[0m 49ms/step\n"
     ]
    },
    {
     "name": "stderr",
     "output_type": "stream",
     "text": [
      "127.0.0.1 - - [07/Apr/2025 16:17:53] \"POST /classify HTTP/1.1\" 200 -\n"
     ]
    },
    {
     "name": "stdout",
     "output_type": "stream",
     "text": [
      "[2.1018241e-05 1.6384321e-03 2.2575076e-01 5.7827745e-02 2.9089773e-02\n",
      " 3.2579686e-02 2.1011387e-05 8.8425346e-02 1.7993338e-02 5.4665291e-01]\n",
      "{'air_conditioner': 0.0021018240659032017, 'car_horn': 0.16384321497753263, 'children_playing': 22.575075924396515, 'dog_bark': 5.782774463295937, 'drilling': 2.9089773073792458, 'engine_idling': 3.2579686492681503, 'gun_shot': 0.0021011386706959456, 'jackhammer': 8.842534571886063, 'siren': 1.7993338406085968, 'street_music': 54.66529130935669}\n",
      "application/ogg\n",
      "Done!\n",
      "predicting...\n",
      "\u001b[1m1/1\u001b[0m \u001b[32m━━━━━━━━━━━━━━━━━━━━\u001b[0m\u001b[37m\u001b[0m \u001b[1m0s\u001b[0m 52ms/step\n"
     ]
    },
    {
     "name": "stderr",
     "output_type": "stream",
     "text": [
      "127.0.0.1 - - [07/Apr/2025 16:18:03] \"POST /classify HTTP/1.1\" 200 -\n"
     ]
    },
    {
     "name": "stdout",
     "output_type": "stream",
     "text": [
      "[2.8420865e-05 3.1657480e-03 3.3209238e-02 6.9060498e-01 7.9063559e-03\n",
      " 6.2848665e-03 4.3089538e-05 1.1739026e-01 1.4347978e-02 1.2701911e-01]\n",
      "{'air_conditioner': 0.002842086541932076, 'car_horn': 0.3165747970342636, 'children_playing': 3.3209238201379776, 'dog_bark': 69.06049847602844, 'drilling': 0.7906355895102024, 'engine_idling': 0.6284866482019424, 'gun_shot': 0.0043089537939522415, 'jackhammer': 11.739026010036469, 'siren': 1.4347977936267853, 'street_music': 12.701910734176636}\n",
      "audio/mpeg\n",
      "Done!\n",
      "predicting...\n",
      "\u001b[1m1/1\u001b[0m \u001b[32m━━━━━━━━━━━━━━━━━━━━\u001b[0m\u001b[37m\u001b[0m \u001b[1m0s\u001b[0m 58ms/step\n"
     ]
    },
    {
     "name": "stderr",
     "output_type": "stream",
     "text": [
      "127.0.0.1 - - [07/Apr/2025 16:18:10] \"POST /classify HTTP/1.1\" 200 -\n"
     ]
    },
    {
     "name": "stdout",
     "output_type": "stream",
     "text": [
      "[5.4685844e-12 3.5691224e-07 1.6422293e-05 2.4885531e-03 1.1931844e-04\n",
      " 8.6257011e-01 9.9069700e-13 1.6445614e-07 7.6578244e-06 1.3479739e-01]\n",
      "{'air_conditioner': 5.468584352713579e-10, 'car_horn': 3.569122384305956e-05, 'children_playing': 0.0016422292901552282, 'dog_bark': 0.24885530583560467, 'drilling': 0.011931844346690923, 'engine_idling': 86.25701069831848, 'gun_shot': 9.906969992631853e-11, 'jackhammer': 1.6445613937321468e-05, 'siren': 0.000765782442613272, 'street_music': 13.479739427566528}\n",
      "audio/x-flac\n",
      "Done!\n",
      "predicting...\n",
      "\u001b[1m1/1\u001b[0m \u001b[32m━━━━━━━━━━━━━━━━━━━━\u001b[0m\u001b[37m\u001b[0m \u001b[1m0s\u001b[0m 86ms/step\n"
     ]
    },
    {
     "name": "stderr",
     "output_type": "stream",
     "text": [
      "127.0.0.1 - - [07/Apr/2025 16:18:21] \"POST /classify HTTP/1.1\" 200 -\n"
     ]
    },
    {
     "name": "stdout",
     "output_type": "stream",
     "text": [
      "[1.6689825e-09 1.7468348e-07 3.2726072e-02 9.4324368e-04 2.3821838e-05\n",
      " 8.8182741e-01 4.1782819e-10 1.4653297e-04 3.2233614e-02 5.2099165e-02]\n",
      "{'air_conditioner': 1.6689825077520481e-07, 'car_horn': 1.7468347834892484e-05, 'children_playing': 3.2726071774959564, 'dog_bark': 0.09432436781935394, 'drilling': 0.0023821838112780824, 'engine_idling': 88.18274140357971, 'gun_shot': 4.178281887146085e-08, 'jackhammer': 0.01465329696657136, 'siren': 3.223361447453499, 'street_music': 5.209916457533836}\n",
      "application/ogg\n",
      "Done!\n",
      "predicting...\n",
      "\u001b[1m1/1\u001b[0m \u001b[32m━━━━━━━━━━━━━━━━━━━━\u001b[0m\u001b[37m\u001b[0m \u001b[1m0s\u001b[0m 77ms/step\n"
     ]
    },
    {
     "name": "stderr",
     "output_type": "stream",
     "text": [
      "127.0.0.1 - - [07/Apr/2025 16:18:40] \"POST /classify HTTP/1.1\" 200 -\n"
     ]
    },
    {
     "name": "stdout",
     "output_type": "stream",
     "text": [
      "[1.0500895e-05 4.0726044e-04 1.7351497e-02 1.9714825e-01 3.1675138e-02\n",
      " 6.6482621e-01 9.2407345e-06 1.8782335e-03 2.1550180e-02 6.5143429e-02]\n",
      "{'air_conditioner': 0.0010500894859433174, 'car_horn': 0.040726043516770005, 'children_playing': 1.735149696469307, 'dog_bark': 19.714824855327606, 'drilling': 3.167513757944107, 'engine_idling': 66.48262143135071, 'gun_shot': 0.0009240734470949974, 'jackhammer': 0.1878233510069549, 'siren': 2.155018039047718, 'street_music': 6.514342874288559}\n",
      "audio/wav\n"
     ]
    }
   ],
   "source": [
    "import os\n",
    "from pydub import AudioSegment\n",
    "\n",
    "app = Flask(\"Audio Classifier\")\n",
    "app.config['UPLOAD_FOLDER'] = 'uploads/'\n",
    "\n",
    "@app.route('/')\n",
    "def index():\n",
    "    return render_template('./index.html')\n",
    "\n",
    "# @app.route('/upload', methods=['POST'])\n",
    "# def upload_file():\n",
    "#     if 'file' not in request.files:\n",
    "#         return 'No file uploaded', 400\n",
    "\n",
    "#     file = request.files['file']\n",
    "\n",
    "#     if file.filename == '':\n",
    "#         return 'No file selected', 400\n",
    "\n",
    "#     if file:\n",
    "#         filename = file.filename\n",
    "#         file.save(os.path.join(app.config['UPLOAD_FOLDER'], filename))\n",
    "#         generate_spectrogram(os.path.join(app.config['UPLOAD_FOLDER'], filename))\n",
    "#         return 'File uploaded and spectrogram generated', 200\n",
    "\n",
    "@app.route('/classify', methods=['POST'])\n",
    "def classify():\n",
    "    # Get the audio file from the request\n",
    "    audio_file = request.files['audio_file']\n",
    "\n",
    "    # Process the audio file using your trained model\n",
    "    audio_data = preprocess_audio(audio_file)\n",
    "    print(\"predicting...\")\n",
    "    prediction = model.predict(audio_data)\n",
    "\n",
    "    \n",
    "    LABELS = [\n",
    "        \"air_conditioner\",\n",
    "        \"car_horn\",\n",
    "        \"children_playing\",\n",
    "        \"dog_bark\",\n",
    "        \"drilling\",\n",
    "        \"engine_idling\",\n",
    "        \"gun_shot\",\n",
    "        \"jackhammer\",\n",
    "        \"siren\",\n",
    "        \"street_music\"\n",
    "    ]\n",
    "\n",
    "    p = {}\n",
    "    pred = prediction.flatten()\n",
    "    print(pred)\n",
    "    for (index, label) in enumerate(LABELS):\n",
    "        p[label] = float(pred[index] * 100.0)\n",
    "\n",
    "    print(p)\n",
    "\n",
    "    \n",
    "    predicted = np.argmax(prediction)\n",
    "\n",
    "    file = open(\"uploads/spectrogram.png\", 'rb')\n",
    "    image_buffer = file.read()\n",
    "\n",
    "    print(audio_file.mimetype)\n",
    "    spectrogram = base64.b64encode(image_buffer).decode('utf-8')\n",
    "\n",
    "\n",
    "    # mp3_bytes = io.BytesIO()\n",
    "    # audio = AudioSegment.from_file(audio_file.read())\n",
    "    # audio.export(mp3_bytes, format='mp3')\n",
    "    # # mp3_data = mp3_bytes.getvalue()\n",
    "    \n",
    "    # audio_data = base64.b64encode(mp3_bytes.read()).decode('utf-8')\n",
    "    \n",
    "    # Return the classification result\n",
    "    return {\n",
    "        'prediction': LABELS[predicted],\n",
    "        'spectrogram': spectrogram, \n",
    "        # 'audio': audio_data,\n",
    "        # 'audio_mime': audio_file.mimetype,\n",
    "        'predictions': p,\n",
    "    }\n",
    "\n",
    "app.run()\n"
   ]
  },
  {
   "cell_type": "code",
   "execution_count": 30,
   "metadata": {},
   "outputs": [
    {
     "name": "stdout",
     "output_type": "stream",
     "text": [
      " * Serving Flask app 'Audio Classifier'\n",
      " * Debug mode: off\n"
     ]
    },
    {
     "name": "stderr",
     "output_type": "stream",
     "text": [
      "WARNING: This is a development server. Do not use it in a production deployment. Use a production WSGI server instead.\n",
      " * Running on http://127.0.0.1:5000\n",
      "Press CTRL+C to quit\n",
      "127.0.0.1 - - [02/Apr/2025 14:43:57] \"GET / HTTP/1.1\" 200 -\n",
      "127.0.0.1 - - [02/Apr/2025 14:44:03] \"GET /?audio_file=siren.wav HTTP/1.1\" 200 -\n",
      "127.0.0.1 - - [02/Apr/2025 14:44:33] \"GET /?audio_file=silence.wav HTTP/1.1\" 200 -\n"
     ]
    }
   ],
   "source": []
  },
  {
   "cell_type": "code",
   "execution_count": null,
   "metadata": {},
   "outputs": [],
   "source": []
  }
 ],
 "metadata": {
  "kernelspec": {
   "display_name": "Python 3",
   "language": "python",
   "name": "python3"
  },
  "language_info": {
   "codemirror_mode": {
    "name": "ipython",
    "version": 3
   },
   "file_extension": ".py",
   "mimetype": "text/x-python",
   "name": "python",
   "nbconvert_exporter": "python",
   "pygments_lexer": "ipython3",
   "version": "3.11.0"
  }
 },
 "nbformat": 4,
 "nbformat_minor": 2
}
